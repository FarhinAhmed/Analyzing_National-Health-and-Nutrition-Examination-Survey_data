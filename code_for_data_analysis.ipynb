{
 "cells": [
  {
   "cell_type": "code",
   "execution_count": 2,
   "metadata": {},
   "outputs": [],
   "source": [
    "import pandas as pd\n",
    "import numpy as np\n",
    "import matplotlib.pyplot as plt\n",
    "import seaborn as sns"
   ]
  },
  {
   "cell_type": "code",
   "execution_count": 3,
   "metadata": {},
   "outputs": [
    {
     "name": "stdout",
     "output_type": "stream",
     "text": [
      "(5735, 28)\n"
     ]
    }
   ],
   "source": [
    "df = pd.read_csv(\"nhanes_2015_2016.csv\")\n",
    "print(df.shape)\n"
   ]
  },
  {
   "cell_type": "code",
   "execution_count": 4,
   "metadata": {},
   "outputs": [
    {
     "data": {
      "text/html": [
       "<div>\n",
       "<style scoped>\n",
       "    .dataframe tbody tr th:only-of-type {\n",
       "        vertical-align: middle;\n",
       "    }\n",
       "\n",
       "    .dataframe tbody tr th {\n",
       "        vertical-align: top;\n",
       "    }\n",
       "\n",
       "    .dataframe thead th {\n",
       "        text-align: right;\n",
       "    }\n",
       "</style>\n",
       "<table border=\"1\" class=\"dataframe\">\n",
       "  <thead>\n",
       "    <tr style=\"text-align: right;\">\n",
       "      <th></th>\n",
       "      <th>SEQN</th>\n",
       "      <th>ALQ101</th>\n",
       "      <th>ALQ110</th>\n",
       "      <th>ALQ130</th>\n",
       "      <th>SMQ020</th>\n",
       "      <th>RIAGENDR</th>\n",
       "      <th>RIDAGEYR</th>\n",
       "      <th>RIDRETH1</th>\n",
       "      <th>DMDCITZN</th>\n",
       "      <th>DMDEDUC2</th>\n",
       "      <th>...</th>\n",
       "      <th>BPXSY2</th>\n",
       "      <th>BPXDI2</th>\n",
       "      <th>BMXWT</th>\n",
       "      <th>BMXHT</th>\n",
       "      <th>BMXBMI</th>\n",
       "      <th>BMXLEG</th>\n",
       "      <th>BMXARML</th>\n",
       "      <th>BMXARMC</th>\n",
       "      <th>BMXWAIST</th>\n",
       "      <th>HIQ210</th>\n",
       "    </tr>\n",
       "  </thead>\n",
       "  <tbody>\n",
       "    <tr>\n",
       "      <th>0</th>\n",
       "      <td>83732</td>\n",
       "      <td>1.0</td>\n",
       "      <td>NaN</td>\n",
       "      <td>1.0</td>\n",
       "      <td>1</td>\n",
       "      <td>1</td>\n",
       "      <td>62</td>\n",
       "      <td>3</td>\n",
       "      <td>1.0</td>\n",
       "      <td>5.0</td>\n",
       "      <td>...</td>\n",
       "      <td>124.0</td>\n",
       "      <td>64.0</td>\n",
       "      <td>94.8</td>\n",
       "      <td>184.5</td>\n",
       "      <td>27.8</td>\n",
       "      <td>43.3</td>\n",
       "      <td>43.6</td>\n",
       "      <td>35.9</td>\n",
       "      <td>101.1</td>\n",
       "      <td>2.0</td>\n",
       "    </tr>\n",
       "    <tr>\n",
       "      <th>1</th>\n",
       "      <td>83733</td>\n",
       "      <td>1.0</td>\n",
       "      <td>NaN</td>\n",
       "      <td>6.0</td>\n",
       "      <td>1</td>\n",
       "      <td>1</td>\n",
       "      <td>53</td>\n",
       "      <td>3</td>\n",
       "      <td>2.0</td>\n",
       "      <td>3.0</td>\n",
       "      <td>...</td>\n",
       "      <td>140.0</td>\n",
       "      <td>88.0</td>\n",
       "      <td>90.4</td>\n",
       "      <td>171.4</td>\n",
       "      <td>30.8</td>\n",
       "      <td>38.0</td>\n",
       "      <td>40.0</td>\n",
       "      <td>33.2</td>\n",
       "      <td>107.9</td>\n",
       "      <td>NaN</td>\n",
       "    </tr>\n",
       "    <tr>\n",
       "      <th>2</th>\n",
       "      <td>83734</td>\n",
       "      <td>1.0</td>\n",
       "      <td>NaN</td>\n",
       "      <td>NaN</td>\n",
       "      <td>1</td>\n",
       "      <td>1</td>\n",
       "      <td>78</td>\n",
       "      <td>3</td>\n",
       "      <td>1.0</td>\n",
       "      <td>3.0</td>\n",
       "      <td>...</td>\n",
       "      <td>132.0</td>\n",
       "      <td>44.0</td>\n",
       "      <td>83.4</td>\n",
       "      <td>170.1</td>\n",
       "      <td>28.8</td>\n",
       "      <td>35.6</td>\n",
       "      <td>37.0</td>\n",
       "      <td>31.0</td>\n",
       "      <td>116.5</td>\n",
       "      <td>2.0</td>\n",
       "    </tr>\n",
       "    <tr>\n",
       "      <th>3</th>\n",
       "      <td>83735</td>\n",
       "      <td>2.0</td>\n",
       "      <td>1.0</td>\n",
       "      <td>1.0</td>\n",
       "      <td>2</td>\n",
       "      <td>2</td>\n",
       "      <td>56</td>\n",
       "      <td>3</td>\n",
       "      <td>1.0</td>\n",
       "      <td>5.0</td>\n",
       "      <td>...</td>\n",
       "      <td>134.0</td>\n",
       "      <td>68.0</td>\n",
       "      <td>109.8</td>\n",
       "      <td>160.9</td>\n",
       "      <td>42.4</td>\n",
       "      <td>38.5</td>\n",
       "      <td>37.7</td>\n",
       "      <td>38.3</td>\n",
       "      <td>110.1</td>\n",
       "      <td>2.0</td>\n",
       "    </tr>\n",
       "    <tr>\n",
       "      <th>4</th>\n",
       "      <td>83736</td>\n",
       "      <td>2.0</td>\n",
       "      <td>1.0</td>\n",
       "      <td>1.0</td>\n",
       "      <td>2</td>\n",
       "      <td>2</td>\n",
       "      <td>42</td>\n",
       "      <td>4</td>\n",
       "      <td>1.0</td>\n",
       "      <td>4.0</td>\n",
       "      <td>...</td>\n",
       "      <td>114.0</td>\n",
       "      <td>54.0</td>\n",
       "      <td>55.2</td>\n",
       "      <td>164.9</td>\n",
       "      <td>20.3</td>\n",
       "      <td>37.4</td>\n",
       "      <td>36.0</td>\n",
       "      <td>27.2</td>\n",
       "      <td>80.4</td>\n",
       "      <td>2.0</td>\n",
       "    </tr>\n",
       "  </tbody>\n",
       "</table>\n",
       "<p>5 rows × 28 columns</p>\n",
       "</div>"
      ],
      "text/plain": [
       "    SEQN  ALQ101  ALQ110  ALQ130  SMQ020  RIAGENDR  RIDAGEYR  RIDRETH1  \\\n",
       "0  83732     1.0     NaN     1.0       1         1        62         3   \n",
       "1  83733     1.0     NaN     6.0       1         1        53         3   \n",
       "2  83734     1.0     NaN     NaN       1         1        78         3   \n",
       "3  83735     2.0     1.0     1.0       2         2        56         3   \n",
       "4  83736     2.0     1.0     1.0       2         2        42         4   \n",
       "\n",
       "   DMDCITZN  DMDEDUC2   ...    BPXSY2  BPXDI2  BMXWT  BMXHT  BMXBMI  BMXLEG  \\\n",
       "0       1.0       5.0   ...     124.0    64.0   94.8  184.5    27.8    43.3   \n",
       "1       2.0       3.0   ...     140.0    88.0   90.4  171.4    30.8    38.0   \n",
       "2       1.0       3.0   ...     132.0    44.0   83.4  170.1    28.8    35.6   \n",
       "3       1.0       5.0   ...     134.0    68.0  109.8  160.9    42.4    38.5   \n",
       "4       1.0       4.0   ...     114.0    54.0   55.2  164.9    20.3    37.4   \n",
       "\n",
       "   BMXARML  BMXARMC  BMXWAIST  HIQ210  \n",
       "0     43.6     35.9     101.1     2.0  \n",
       "1     40.0     33.2     107.9     NaN  \n",
       "2     37.0     31.0     116.5     2.0  \n",
       "3     37.7     38.3     110.1     2.0  \n",
       "4     36.0     27.2      80.4     2.0  \n",
       "\n",
       "[5 rows x 28 columns]"
      ]
     },
     "execution_count": 4,
     "metadata": {},
     "output_type": "execute_result"
    }
   ],
   "source": [
    "df.head()"
   ]
  },
  {
   "cell_type": "code",
   "execution_count": 5,
   "metadata": {},
   "outputs": [
    {
     "data": {
      "text/plain": [
       "Index(['SEQN', 'ALQ101', 'ALQ110', 'ALQ130', 'SMQ020', 'RIAGENDR', 'RIDAGEYR',\n",
       "       'RIDRETH1', 'DMDCITZN', 'DMDEDUC2', 'DMDMARTL', 'DMDHHSIZ', 'WTINT2YR',\n",
       "       'SDMVPSU', 'SDMVSTRA', 'INDFMPIR', 'BPXSY1', 'BPXDI1', 'BPXSY2',\n",
       "       'BPXDI2', 'BMXWT', 'BMXHT', 'BMXBMI', 'BMXLEG', 'BMXARML', 'BMXARMC',\n",
       "       'BMXWAIST', 'HIQ210'],\n",
       "      dtype='object')"
      ]
     },
     "execution_count": 5,
     "metadata": {},
     "output_type": "execute_result"
    }
   ],
   "source": [
    "df.columns"
   ]
  },
  {
   "cell_type": "code",
   "execution_count": 6,
   "metadata": {},
   "outputs": [
    {
     "data": {
      "text/plain": [
       "4.0    1621\n",
       "5.0    1366\n",
       "3.0    1186\n",
       "1.0     655\n",
       "2.0     643\n",
       "9.0       3\n",
       "Name: DMDEDUC2, dtype: int64"
      ]
     },
     "execution_count": 6,
     "metadata": {},
     "output_type": "execute_result"
    }
   ],
   "source": [
    "df.DMDEDUC2.value_counts()"
   ]
  },
  {
   "cell_type": "code",
   "execution_count": 7,
   "metadata": {},
   "outputs": [
    {
     "data": {
      "text/plain": [
       "5474"
      ]
     },
     "execution_count": 7,
     "metadata": {},
     "output_type": "execute_result"
    }
   ],
   "source": [
    "df.DMDEDUC2.value_counts().sum()"
   ]
  },
  {
   "cell_type": "code",
   "execution_count": 8,
   "metadata": {},
   "outputs": [
    {
     "data": {
      "text/plain": [
       "261"
      ]
     },
     "execution_count": 8,
     "metadata": {},
     "output_type": "execute_result"
    }
   ],
   "source": [
    "pd.isnull(df.DMDEDUC2).sum()"
   ]
  },
  {
   "cell_type": "markdown",
   "metadata": {},
   "source": [
    "In some cases it is useful to [replace](https://pandas.pydata.org/pandas-docs/stable/generated/pandas.Series.replace.html) integer codes with a text label that reflects the code's meaning.  Below we create a new variable called 'DMDEDUC2x' that is recoded with text labels, then we generate its frequency distribution."
   ]
  },
  {
   "cell_type": "code",
   "execution_count": 9,
   "metadata": {},
   "outputs": [
    {
     "data": {
      "text/plain": [
       "Some college/AA    1621\n",
       "College            1366\n",
       "HS/GED             1186\n",
       "<9                  655\n",
       "9-11                643\n",
       "Don't know            3\n",
       "Name: DMDEDUC2x, dtype: int64"
      ]
     },
     "execution_count": 9,
     "metadata": {},
     "output_type": "execute_result"
    }
   ],
   "source": [
    "df[\"DMDEDUC2x\"] = df.DMDEDUC2.replace({1: \"<9\", 2:\"9-11\",3: \"HS/GED\", 4: \"Some college/AA\", 5: \"College\", \n",
    "                                       7: \"Refused\", 9: \"Don't know\"})\n",
    "df.DMDEDUC2x.value_counts()"
   ]
  },
  {
   "cell_type": "markdown",
   "metadata": {},
   "source": [
    "doing the same for the gender variable (replacing the integers with text)"
   ]
  },
  {
   "cell_type": "code",
   "execution_count": 10,
   "metadata": {},
   "outputs": [],
   "source": [
    "df[\"RIAGENDRx\"] = df.RIAGENDR.replace({1: \"Male\", 2: \"Female\"})"
   ]
  },
  {
   "cell_type": "markdown",
   "metadata": {},
   "source": [
    "Show the proportion of responders in each education level "
   ]
  },
  {
   "cell_type": "code",
   "execution_count": 11,
   "metadata": {},
   "outputs": [
    {
     "data": {
      "text/plain": [
       "Some college/AA    0.296127\n",
       "College            0.249543\n",
       "HS/GED             0.216661\n",
       "<9                 0.119657\n",
       "9-11               0.117464\n",
       "Don't know         0.000548\n",
       "Name: DMDEDUC2x, dtype: float64"
      ]
     },
     "execution_count": 11,
     "metadata": {},
     "output_type": "execute_result"
    }
   ],
   "source": [
    "x = df.DMDEDUC2x.value_counts()\n",
    "x/x.sum()"
   ]
  },
  {
   "cell_type": "markdown",
   "metadata": {},
   "source": [
    "### So, ~12% of survey responders have completed less than 9 years of education"
   ]
  },
  {
   "cell_type": "markdown",
   "metadata": {},
   "source": [
    "In some cases we will want to treat the missing response category as another category of observed response, rather than ignoring it when creating summaries.  Below we create a new category called \"Missing\", and assign all missing values to it usig [fillna](https://pandas.pydata.org/pandas-docs/stable/missing_data.html#filling-missing-values-fillna).  Then we recalculate the frequency distribution.  We see that 4.6% of the responses are missing."
   ]
  },
  {
   "cell_type": "code",
   "execution_count": 12,
   "metadata": {},
   "outputs": [
    {
     "data": {
      "text/plain": [
       "Some college/AA    0.282650\n",
       "College            0.238187\n",
       "HS/GED             0.206800\n",
       "<9                 0.114211\n",
       "9-11               0.112119\n",
       "Missing            0.045510\n",
       "Don't know         0.000523\n",
       "Name: DMDEDUC2x, dtype: float64"
      ]
     },
     "execution_count": 12,
     "metadata": {},
     "output_type": "execute_result"
    }
   ],
   "source": [
    "df.DMDEDUC2x = df.DMDEDUC2x.fillna(\"Missing\")\n",
    "x = df.DMDEDUC2x.value_counts()\n",
    "x/x.sum()"
   ]
  },
  {
   "cell_type": "code",
   "execution_count": 13,
   "metadata": {},
   "outputs": [
    {
     "data": {
      "text/plain": [
       "count    5666.000000\n",
       "mean       81.342676\n",
       "std        21.764409\n",
       "min        32.400000\n",
       "25%        65.900000\n",
       "50%        78.200000\n",
       "75%        92.700000\n",
       "max       198.900000\n",
       "Name: BMXWT, dtype: float64"
      ]
     },
     "execution_count": 13,
     "metadata": {},
     "output_type": "execute_result"
    }
   ],
   "source": [
    "df[\"BMXWT\"].dropna().describe()"
   ]
  },
  {
   "cell_type": "code",
   "execution_count": 14,
   "metadata": {},
   "outputs": [
    {
     "data": {
      "text/plain": [
       "count    5666.000000\n",
       "mean       81.342676\n",
       "std        21.764409\n",
       "min        32.400000\n",
       "25%        65.900000\n",
       "50%        78.200000\n",
       "75%        92.700000\n",
       "max       198.900000\n",
       "Name: BMXWT, dtype: float64"
      ]
     },
     "execution_count": 14,
     "metadata": {},
     "output_type": "execute_result"
    }
   ],
   "source": [
    "df[\"BMXWT\"].describe()"
   ]
  },
  {
   "cell_type": "code",
   "execution_count": 15,
   "metadata": {},
   "outputs": [
    {
     "data": {
      "text/plain": [
       "count    1731.000000\n",
       "mean        1.587522\n",
       "std         0.623940\n",
       "min         1.000000\n",
       "25%         1.000000\n",
       "50%         2.000000\n",
       "75%         2.000000\n",
       "max         9.000000\n",
       "Name: ALQ110, dtype: float64"
      ]
     },
     "execution_count": 15,
     "metadata": {},
     "output_type": "execute_result"
    }
   ],
   "source": [
    "df.ALQ110.describe()"
   ]
  },
  {
   "cell_type": "code",
   "execution_count": 16,
   "metadata": {},
   "outputs": [
    {
     "data": {
      "text/plain": [
       "count    1731.000000\n",
       "mean        1.587522\n",
       "std         0.623940\n",
       "min         1.000000\n",
       "25%         1.000000\n",
       "50%         2.000000\n",
       "75%         2.000000\n",
       "max         9.000000\n",
       "Name: ALQ110, dtype: float64"
      ]
     },
     "execution_count": 16,
     "metadata": {},
     "output_type": "execute_result"
    }
   ],
   "source": [
    "df.ALQ110.dropna().describe()"
   ]
  },
  {
   "cell_type": "code",
   "execution_count": 17,
   "metadata": {},
   "outputs": [
    {
     "name": "stdout",
     "output_type": "stream",
     "text": [
      "81.34267560889509\n"
     ]
    }
   ],
   "source": [
    "x = df[\"BMXWT\"].dropna()\n",
    "print(np.mean(x))"
   ]
  },
  {
   "cell_type": "code",
   "execution_count": 18,
   "metadata": {},
   "outputs": [
    {
     "name": "stdout",
     "output_type": "stream",
     "text": [
      "81.34267560889509\n"
     ]
    }
   ],
   "source": [
    "print(x.mean())"
   ]
  },
  {
   "cell_type": "code",
   "execution_count": 19,
   "metadata": {},
   "outputs": [
    {
     "name": "stdout",
     "output_type": "stream",
     "text": [
      "78.2\n"
     ]
    }
   ],
   "source": [
    "print(np.percentile(x,50))"
   ]
  },
  {
   "cell_type": "markdown",
   "metadata": {},
   "source": [
    "Considering only the systolic condition, we can calculate the proprotion of the NHANES sample who would be considered to have pre-hypertension."
   ]
  },
  {
   "cell_type": "code",
   "execution_count": 20,
   "metadata": {},
   "outputs": [
    {
     "data": {
      "text/plain": [
       "0.366870095902354"
      ]
     },
     "execution_count": 20,
     "metadata": {},
     "output_type": "execute_result"
    }
   ],
   "source": [
    "np.mean((df[\"BPXSY1\"] >= 120) & (df[\"BPXSY1\"] <= 139))"
   ]
  },
  {
   "cell_type": "markdown",
   "metadata": {},
   "source": [
    "Likewise,Considering only the diastolic condition, we can calculate the proprotion of the NHANES sample who would be considered to have pre-hypertension."
   ]
  },
  {
   "cell_type": "code",
   "execution_count": 21,
   "metadata": {},
   "outputs": [
    {
     "data": {
      "text/plain": [
       "0.14699215344376634"
      ]
     },
     "execution_count": 21,
     "metadata": {},
     "output_type": "execute_result"
    }
   ],
   "source": [
    "np.mean((df[\"BPXDI1\"] >= 80) & (df[\"BPXDI1\"]<= 89))"
   ]
  },
  {
   "cell_type": "markdown",
   "metadata": {},
   "source": [
    "Finally we calculate the proportion of NHANES subjects who are pre-hypertensive based on either systolic or diastolic blood pressure.  Since some people are pre-hypertensive under both criteria, the proportion below is less than the sum of the two proportions calculated above.  The combined systolic and diastolic condition for pre-hypertension is somewhat complex, so below we construct temporary variables 'a' and 'b' that hold the systolic and diastolic pre-hypertensive status separately, then combine them with a \"logical or\" to obtain the final status for each subject."
   ]
  },
  {
   "cell_type": "code",
   "execution_count": 22,
   "metadata": {},
   "outputs": [
    {
     "data": {
      "text/plain": [
       "0.43173496076721884"
      ]
     },
     "execution_count": 22,
     "metadata": {},
     "output_type": "execute_result"
    }
   ],
   "source": [
    "a = (df[\"BPXSY1\"] >= 120) & (df[\"BPXSY1\"] <= 139)\n",
    "b = (df[\"BPXDI1\"] >= 80) & (df[\"BPXDI1\"]<= 89)\n",
    "np.mean(a|b)"
   ]
  },
  {
   "cell_type": "markdown",
   "metadata": {},
   "source": [
    "Blood pressure measurements are affected by a phenomenon called \"white coat hypertension\", in which a subject's bood pressure may be slightly elevated if they are nervous when interacting with health care providers.  Typically this effect subsides if the blood pressure is measured several times in sequence.  In NHANES, both systolic and diastolic blood pressure are meausred three times for each subject (e.g. [BPXSY2](https://wwwn.cdc.gov/Nchs/Nhanes/2015-2016/BPX_I.htm#BPXSY2) is the second measurement of systolic blood pressure).  We can calculate the extent to which white coat anxiety is present in the NHANES data by looking a the mean difference between the first two systolic or diastolic blood pressure measurements."
   ]
  },
  {
   "cell_type": "code",
   "execution_count": 23,
   "metadata": {},
   "outputs": [
    {
     "name": "stdout",
     "output_type": "stream",
     "text": [
      "0.6749860309182343\n",
      "0.3490407897187558\n"
     ]
    }
   ],
   "source": [
    "print(np.mean(df[\"BPXSY1\"] - df[\"BPXSY2\"]))\n",
    "print(np.mean(df[\"BPXDI1\"] - df[\"BPXDI2\"]))"
   ]
  },
  {
   "cell_type": "markdown",
   "metadata": {},
   "source": [
    "These mean differences are positive -- the first systolic blood pressure measurement is around 0.67 mm Hg greater than the second systolic blood pressure measurement, and the first diastolic blood pressure measurement is around 0.35 mm Hg greater than the second diastolic blood pressure measurement.  This is consistent with the presence of \"white coat hypertension\"."
   ]
  },
  {
   "cell_type": "code",
   "execution_count": 24,
   "metadata": {},
   "outputs": [
    {
     "name": "stderr",
     "output_type": "stream",
     "text": [
      "/Users/farhin/anaconda2/envs/py36/lib/python3.6/site-packages/scipy/stats/stats.py:1713: FutureWarning: Using a non-tuple sequence for multidimensional indexing is deprecated; use `arr[tuple(seq)]` instead of `arr[seq]`. In the future this will be interpreted as an array index, `arr[np.array(seq)]`, which will result either in an error or a different result.\n",
      "  return np.add.reduce(sorted[indexer] * weights, axis=axis) / sumval\n"
     ]
    },
    {
     "data": {
      "text/plain": [
       "<matplotlib.axes._subplots.AxesSubplot at 0x7fcf8c952be0>"
      ]
     },
     "execution_count": 24,
     "metadata": {},
     "output_type": "execute_result"
    },
    {
     "data": {
      "image/png": "[encoded data removed]",
      "text/plain": [
       "<Figure size 432x288 with 1 Axes>"
      ]
     },
     "metadata": {
      "needs_background": "light"
     },
     "output_type": "display_data"
    }
   ],
   "source": [
    "sns.distplot(df.BMXWT.dropna())"
   ]
  },
  {
   "cell_type": "markdown",
   "metadata": {},
   "source": [
    "To compare several distributions, we can use side-by-side boxplots.  Below we compare the distributions of the first and second systolic blood pressure measurements ([BPXSY1](https://wwwn.cdc.gov/Nchs/Nhanes/2015-2016/BPX_I.htm#BPXSY1), BPXSY2), and the first and second diastolic blood pressure measurements ([BPXDI1](https://wwwn.cdc.gov/Nchs/Nhanes/2015-2016/BPX_I.htm#BPXDI1), BPXDI2). As expected, diastolic measurements are substantially lower than systolic measurements.  Above we saw that the second blood pressure reading on a subject tended on average to be slightly lower than the first measurement.  This difference was less than 1 mm/Hg, so is not visible in the \"marginal\" distributions shown below."
   ]
  },
  {
   "cell_type": "code",
   "execution_count": 25,
   "metadata": {},
   "outputs": [
    {
     "data": {
      "text/plain": [
       "Text(0, 0.5, 'Blood pressure in mm/Hg')"
      ]
     },
     "execution_count": 25,
     "metadata": {},
     "output_type": "execute_result"
    },
    {
     "data": {
      "image/png": "[encoded data removed]",
      "text/plain": [
       "<Figure size 432x288 with 1 Axes>"
      ]
     },
     "metadata": {
      "needs_background": "light"
     },
     "output_type": "display_data"
    }
   ],
   "source": [
    "sns.boxplot(data = df.loc[:,[\"BPXSY1\", \"BPXSY2\", \"BPXDI1\", \"BPXDI2\"]]).set_ylabel(\"Blood pressure in mm/Hg\")"
   ]
  },
  {
   "cell_type": "code",
   "execution_count": 26,
   "metadata": {},
   "outputs": [
    {
     "data": {
      "text/plain": [
       "<matplotlib.axes._subplots.AxesSubplot at 0x7fcf8cd170f0>"
      ]
     },
     "execution_count": 26,
     "metadata": {},
     "output_type": "execute_result"
    },
    {
     "data": {
      "image/png": "[encoded data removed]",
      "text/plain": [
       "<Figure size 432x288 with 1 Axes>"
      ]
     },
     "metadata": {
      "needs_background": "light"
     },
     "output_type": "display_data"
    }
   ],
   "source": [
    "df[\"agegrp\"] = pd.cut(df.RIDAGEYR,[18, 30, 40, 50, 60, 70, 80])\n",
    "sns.boxplot(x = \"agegrp\", y = \"BPXSY1\", hue = \"RIAGENDRx\", data = df)"
   ]
  },
  {
   "cell_type": "code",
   "execution_count": 27,
   "metadata": {},
   "outputs": [
    {
     "data": {
      "text/plain": [
       "agegrp    DMDEDUC2x      \n",
       "(18, 30]  Some college/AA    364\n",
       "          College            278\n",
       "          HS/GED             237\n",
       "          Missing            128\n",
       "          9-11                99\n",
       "          <9                  47\n",
       "(30, 40]  Some college/AA    282\n",
       "          College            264\n",
       "          HS/GED             182\n",
       "          9-11               111\n",
       "          <9                  93\n",
       "(40, 50]  Some college/AA    262\n",
       "          College            260\n",
       "          HS/GED             171\n",
       "          9-11               112\n",
       "          <9                  98\n",
       "(50, 60]  Some college/AA    258\n",
       "          College            220\n",
       "          HS/GED             220\n",
       "          9-11               122\n",
       "          <9                 104\n",
       "(60, 70]  Some college/AA    238\n",
       "          HS/GED             192\n",
       "          College            188\n",
       "          <9                 149\n",
       "          9-11               111\n",
       "(70, 80]  Some college/AA    217\n",
       "          HS/GED             184\n",
       "          <9                 164\n",
       "          College            156\n",
       "          9-11                88\n",
       "          Don't know           3\n",
       "Name: DMDEDUC2x, dtype: int64"
      ]
     },
     "execution_count": 27,
     "metadata": {},
     "output_type": "execute_result"
    }
   ],
   "source": [
    "df.groupby(\"agegrp\")[\"DMDEDUC2x\"].value_counts()"
   ]
  },
  {
   "cell_type": "code",
   "execution_count": 28,
   "metadata": {},
   "outputs": [
    {
     "data": {
      "text/html": [
       "<div>\n",
       "<style scoped>\n",
       "    .dataframe tbody tr th:only-of-type {\n",
       "        vertical-align: middle;\n",
       "    }\n",
       "\n",
       "    .dataframe tbody tr th {\n",
       "        vertical-align: top;\n",
       "    }\n",
       "\n",
       "    .dataframe thead th {\n",
       "        text-align: right;\n",
       "    }\n",
       "</style>\n",
       "<table border=\"1\" class=\"dataframe\">\n",
       "  <thead>\n",
       "    <tr style=\"text-align: right;\">\n",
       "      <th></th>\n",
       "      <th>DMDEDUC2x</th>\n",
       "      <th>9-11</th>\n",
       "      <th>&lt;9</th>\n",
       "      <th>College</th>\n",
       "      <th>HS/GED</th>\n",
       "      <th>Some college/AA</th>\n",
       "    </tr>\n",
       "    <tr>\n",
       "      <th>agegrp</th>\n",
       "      <th>RIAGENDRx</th>\n",
       "      <th></th>\n",
       "      <th></th>\n",
       "      <th></th>\n",
       "      <th></th>\n",
       "      <th></th>\n",
       "    </tr>\n",
       "  </thead>\n",
       "  <tbody>\n",
       "    <tr>\n",
       "      <th rowspan=\"2\" valign=\"top\">(18, 30]</th>\n",
       "      <th>Female</th>\n",
       "      <td>0.079566</td>\n",
       "      <td>0.048825</td>\n",
       "      <td>0.282098</td>\n",
       "      <td>0.215190</td>\n",
       "      <td>0.374322</td>\n",
       "    </tr>\n",
       "    <tr>\n",
       "      <th>Male</th>\n",
       "      <td>0.116525</td>\n",
       "      <td>0.042373</td>\n",
       "      <td>0.258475</td>\n",
       "      <td>0.250000</td>\n",
       "      <td>0.332627</td>\n",
       "    </tr>\n",
       "    <tr>\n",
       "      <th rowspan=\"2\" valign=\"top\">(30, 40]</th>\n",
       "      <th>Female</th>\n",
       "      <td>0.088608</td>\n",
       "      <td>0.097046</td>\n",
       "      <td>0.314346</td>\n",
       "      <td>0.164557</td>\n",
       "      <td>0.335443</td>\n",
       "    </tr>\n",
       "    <tr>\n",
       "      <th>Male</th>\n",
       "      <td>0.150655</td>\n",
       "      <td>0.102620</td>\n",
       "      <td>0.251092</td>\n",
       "      <td>0.227074</td>\n",
       "      <td>0.268559</td>\n",
       "    </tr>\n",
       "    <tr>\n",
       "      <th rowspan=\"2\" valign=\"top\">(40, 50]</th>\n",
       "      <th>Female</th>\n",
       "      <td>0.109562</td>\n",
       "      <td>0.105578</td>\n",
       "      <td>0.298805</td>\n",
       "      <td>0.173307</td>\n",
       "      <td>0.312749</td>\n",
       "    </tr>\n",
       "    <tr>\n",
       "      <th>Male</th>\n",
       "      <td>0.142145</td>\n",
       "      <td>0.112219</td>\n",
       "      <td>0.274314</td>\n",
       "      <td>0.209476</td>\n",
       "      <td>0.261845</td>\n",
       "    </tr>\n",
       "    <tr>\n",
       "      <th rowspan=\"2\" valign=\"top\">(50, 60]</th>\n",
       "      <th>Female</th>\n",
       "      <td>0.117021</td>\n",
       "      <td>0.102128</td>\n",
       "      <td>0.244681</td>\n",
       "      <td>0.234043</td>\n",
       "      <td>0.302128</td>\n",
       "    </tr>\n",
       "    <tr>\n",
       "      <th>Male</th>\n",
       "      <td>0.147577</td>\n",
       "      <td>0.123348</td>\n",
       "      <td>0.231278</td>\n",
       "      <td>0.242291</td>\n",
       "      <td>0.255507</td>\n",
       "    </tr>\n",
       "    <tr>\n",
       "      <th rowspan=\"2\" valign=\"top\">(60, 70]</th>\n",
       "      <th>Female</th>\n",
       "      <td>0.117914</td>\n",
       "      <td>0.188209</td>\n",
       "      <td>0.195011</td>\n",
       "      <td>0.206349</td>\n",
       "      <td>0.292517</td>\n",
       "    </tr>\n",
       "    <tr>\n",
       "      <th>Male</th>\n",
       "      <td>0.135011</td>\n",
       "      <td>0.151030</td>\n",
       "      <td>0.233410</td>\n",
       "      <td>0.231121</td>\n",
       "      <td>0.249428</td>\n",
       "    </tr>\n",
       "    <tr>\n",
       "      <th rowspan=\"2\" valign=\"top\">(70, 80]</th>\n",
       "      <th>Female</th>\n",
       "      <td>0.105134</td>\n",
       "      <td>0.224939</td>\n",
       "      <td>0.149144</td>\n",
       "      <td>0.239609</td>\n",
       "      <td>0.281174</td>\n",
       "    </tr>\n",
       "    <tr>\n",
       "      <th>Male</th>\n",
       "      <td>0.112500</td>\n",
       "      <td>0.180000</td>\n",
       "      <td>0.237500</td>\n",
       "      <td>0.215000</td>\n",
       "      <td>0.255000</td>\n",
       "    </tr>\n",
       "  </tbody>\n",
       "</table>\n",
       "</div>"
      ],
      "text/plain": [
       "DMDEDUC2x               9-11        <9   College    HS/GED  Some college/AA\n",
       "agegrp   RIAGENDRx                                                         \n",
       "(18, 30] Female     0.079566  0.048825  0.282098  0.215190         0.374322\n",
       "         Male       0.116525  0.042373  0.258475  0.250000         0.332627\n",
       "(30, 40] Female     0.088608  0.097046  0.314346  0.164557         0.335443\n",
       "         Male       0.150655  0.102620  0.251092  0.227074         0.268559\n",
       "(40, 50] Female     0.109562  0.105578  0.298805  0.173307         0.312749\n",
       "         Male       0.142145  0.112219  0.274314  0.209476         0.261845\n",
       "(50, 60] Female     0.117021  0.102128  0.244681  0.234043         0.302128\n",
       "         Male       0.147577  0.123348  0.231278  0.242291         0.255507\n",
       "(60, 70] Female     0.117914  0.188209  0.195011  0.206349         0.292517\n",
       "         Male       0.135011  0.151030  0.233410  0.231121         0.249428\n",
       "(70, 80] Female     0.105134  0.224939  0.149144  0.239609         0.281174\n",
       "         Male       0.112500  0.180000  0.237500  0.215000         0.255000"
      ]
     },
     "execution_count": 28,
     "metadata": {},
     "output_type": "execute_result"
    }
   ],
   "source": [
    "dx = df.loc[~df.DMDEDUC2x.isin([\"Don't know\", \"Missing\"]),:]\n",
    "dx = dx.groupby([\"agegrp\",\"RIAGENDRx\"])[\"DMDEDUC2x\"]\n",
    "dx = dx.value_counts()\n",
    "dx = dx.unstack()\n",
    "dx= dx.apply(lambda x: x/sum(x), axis = 1)\n",
    "dx"
   ]
  },
  {
   "cell_type": "code",
   "execution_count": 29,
   "metadata": {},
   "outputs": [
    {
     "name": "stdout",
     "output_type": "stream",
     "text": [
      "all subjects\n",
      "Married         0.507855\n",
      "NeverMarried    0.183412\n",
      "Divorced        0.105773\n",
      "Cohabitating    0.096273\n",
      "Widowed         0.072342\n",
      "Separated       0.033979\n",
      "Refused         0.000365\n",
      "Name: DMDMARTLx, dtype: float64\n"
     ]
    }
   ],
   "source": [
    "df[\"DMDMARTLx\"] = df.DMDMARTL.replace({1: \"Married\", 2: \"Widowed\", 3: \"Divorced\", 4: \"Separated\", 5: \"NeverMarried\", 6: \"Cohabitating\", 77: \"Refused\", 99: \"Unknown\"})\n",
    "print(\"all subjects\")\n",
    "\n",
    "x = df[\"DMDMARTLx\"].value_counts()\n",
    "x = x/x.sum()\n",
    "print(x)\n",
    "\n"
   ]
  },
  {
   "cell_type": "code",
   "execution_count": 30,
   "metadata": {},
   "outputs": [
    {
     "data": {
      "text/html": [
       "<div>\n",
       "<style scoped>\n",
       "    .dataframe tbody tr th:only-of-type {\n",
       "        vertical-align: middle;\n",
       "    }\n",
       "\n",
       "    .dataframe tbody tr th {\n",
       "        vertical-align: top;\n",
       "    }\n",
       "\n",
       "    .dataframe thead th {\n",
       "        text-align: right;\n",
       "    }\n",
       "</style>\n",
       "<table border=\"1\" class=\"dataframe\">\n",
       "  <thead>\n",
       "    <tr style=\"text-align: right;\">\n",
       "      <th></th>\n",
       "      <th>SEQN</th>\n",
       "      <th>ALQ101</th>\n",
       "      <th>ALQ110</th>\n",
       "      <th>ALQ130</th>\n",
       "      <th>SMQ020</th>\n",
       "      <th>RIAGENDR</th>\n",
       "      <th>RIDAGEYR</th>\n",
       "      <th>RIDRETH1</th>\n",
       "      <th>DMDCITZN</th>\n",
       "      <th>DMDEDUC2</th>\n",
       "      <th>...</th>\n",
       "      <th>BMXBMI</th>\n",
       "      <th>BMXLEG</th>\n",
       "      <th>BMXARML</th>\n",
       "      <th>BMXARMC</th>\n",
       "      <th>BMXWAIST</th>\n",
       "      <th>HIQ210</th>\n",
       "      <th>DMDEDUC2x</th>\n",
       "      <th>RIAGENDRx</th>\n",
       "      <th>agegrp</th>\n",
       "      <th>DMDMARTLx</th>\n",
       "    </tr>\n",
       "  </thead>\n",
       "  <tbody>\n",
       "    <tr>\n",
       "      <th>0</th>\n",
       "      <td>83732</td>\n",
       "      <td>1.0</td>\n",
       "      <td>NaN</td>\n",
       "      <td>1.0</td>\n",
       "      <td>1</td>\n",
       "      <td>1</td>\n",
       "      <td>62</td>\n",
       "      <td>3</td>\n",
       "      <td>1.0</td>\n",
       "      <td>5.0</td>\n",
       "      <td>...</td>\n",
       "      <td>27.8</td>\n",
       "      <td>43.3</td>\n",
       "      <td>43.6</td>\n",
       "      <td>35.9</td>\n",
       "      <td>101.1</td>\n",
       "      <td>2.0</td>\n",
       "      <td>College</td>\n",
       "      <td>Male</td>\n",
       "      <td>(60, 70]</td>\n",
       "      <td>Married</td>\n",
       "    </tr>\n",
       "    <tr>\n",
       "      <th>1</th>\n",
       "      <td>83733</td>\n",
       "      <td>1.0</td>\n",
       "      <td>NaN</td>\n",
       "      <td>6.0</td>\n",
       "      <td>1</td>\n",
       "      <td>1</td>\n",
       "      <td>53</td>\n",
       "      <td>3</td>\n",
       "      <td>2.0</td>\n",
       "      <td>3.0</td>\n",
       "      <td>...</td>\n",
       "      <td>30.8</td>\n",
       "      <td>38.0</td>\n",
       "      <td>40.0</td>\n",
       "      <td>33.2</td>\n",
       "      <td>107.9</td>\n",
       "      <td>NaN</td>\n",
       "      <td>HS/GED</td>\n",
       "      <td>Male</td>\n",
       "      <td>(50, 60]</td>\n",
       "      <td>Divorced</td>\n",
       "    </tr>\n",
       "    <tr>\n",
       "      <th>2</th>\n",
       "      <td>83734</td>\n",
       "      <td>1.0</td>\n",
       "      <td>NaN</td>\n",
       "      <td>NaN</td>\n",
       "      <td>1</td>\n",
       "      <td>1</td>\n",
       "      <td>78</td>\n",
       "      <td>3</td>\n",
       "      <td>1.0</td>\n",
       "      <td>3.0</td>\n",
       "      <td>...</td>\n",
       "      <td>28.8</td>\n",
       "      <td>35.6</td>\n",
       "      <td>37.0</td>\n",
       "      <td>31.0</td>\n",
       "      <td>116.5</td>\n",
       "      <td>2.0</td>\n",
       "      <td>HS/GED</td>\n",
       "      <td>Male</td>\n",
       "      <td>(70, 80]</td>\n",
       "      <td>Married</td>\n",
       "    </tr>\n",
       "    <tr>\n",
       "      <th>3</th>\n",
       "      <td>83735</td>\n",
       "      <td>2.0</td>\n",
       "      <td>1.0</td>\n",
       "      <td>1.0</td>\n",
       "      <td>2</td>\n",
       "      <td>2</td>\n",
       "      <td>56</td>\n",
       "      <td>3</td>\n",
       "      <td>1.0</td>\n",
       "      <td>5.0</td>\n",
       "      <td>...</td>\n",
       "      <td>42.4</td>\n",
       "      <td>38.5</td>\n",
       "      <td>37.7</td>\n",
       "      <td>38.3</td>\n",
       "      <td>110.1</td>\n",
       "      <td>2.0</td>\n",
       "      <td>College</td>\n",
       "      <td>Female</td>\n",
       "      <td>(50, 60]</td>\n",
       "      <td>Cohabitating</td>\n",
       "    </tr>\n",
       "    <tr>\n",
       "      <th>4</th>\n",
       "      <td>83736</td>\n",
       "      <td>2.0</td>\n",
       "      <td>1.0</td>\n",
       "      <td>1.0</td>\n",
       "      <td>2</td>\n",
       "      <td>2</td>\n",
       "      <td>42</td>\n",
       "      <td>4</td>\n",
       "      <td>1.0</td>\n",
       "      <td>4.0</td>\n",
       "      <td>...</td>\n",
       "      <td>20.3</td>\n",
       "      <td>37.4</td>\n",
       "      <td>36.0</td>\n",
       "      <td>27.2</td>\n",
       "      <td>80.4</td>\n",
       "      <td>2.0</td>\n",
       "      <td>Some college/AA</td>\n",
       "      <td>Female</td>\n",
       "      <td>(40, 50]</td>\n",
       "      <td>Divorced</td>\n",
       "    </tr>\n",
       "  </tbody>\n",
       "</table>\n",
       "<p>5 rows × 32 columns</p>\n",
       "</div>"
      ],
      "text/plain": [
       "    SEQN  ALQ101  ALQ110  ALQ130  SMQ020  RIAGENDR  RIDAGEYR  RIDRETH1  \\\n",
       "0  83732     1.0     NaN     1.0       1         1        62         3   \n",
       "1  83733     1.0     NaN     6.0       1         1        53         3   \n",
       "2  83734     1.0     NaN     NaN       1         1        78         3   \n",
       "3  83735     2.0     1.0     1.0       2         2        56         3   \n",
       "4  83736     2.0     1.0     1.0       2         2        42         4   \n",
       "\n",
       "   DMDCITZN  DMDEDUC2      ...       BMXBMI  BMXLEG  BMXARML  BMXARMC  \\\n",
       "0       1.0       5.0      ...         27.8    43.3     43.6     35.9   \n",
       "1       2.0       3.0      ...         30.8    38.0     40.0     33.2   \n",
       "2       1.0       3.0      ...         28.8    35.6     37.0     31.0   \n",
       "3       1.0       5.0      ...         42.4    38.5     37.7     38.3   \n",
       "4       1.0       4.0      ...         20.3    37.4     36.0     27.2   \n",
       "\n",
       "   BMXWAIST  HIQ210        DMDEDUC2x  RIAGENDRx    agegrp     DMDMARTLx  \n",
       "0     101.1     2.0          College       Male  (60, 70]       Married  \n",
       "1     107.9     NaN           HS/GED       Male  (50, 60]      Divorced  \n",
       "2     116.5     2.0           HS/GED       Male  (70, 80]       Married  \n",
       "3     110.1     2.0          College     Female  (50, 60]  Cohabitating  \n",
       "4      80.4     2.0  Some college/AA     Female  (40, 50]      Divorced  \n",
       "\n",
       "[5 rows x 32 columns]"
      ]
     },
     "execution_count": 30,
     "metadata": {},
     "output_type": "execute_result"
    }
   ],
   "source": [
    "df.head()"
   ]
  },
  {
   "cell_type": "code",
   "execution_count": 31,
   "metadata": {},
   "outputs": [
    {
     "name": "stdout",
     "output_type": "stream",
     "text": [
      "RIAGENDRx  DMDMARTLx   \n",
      "Female     Married         1303\n",
      "           NeverMarried     520\n",
      "           Divorced         350\n",
      "           Widowed          296\n",
      "           Cohabitating     262\n",
      "           Separated        118\n",
      "           Refused            1\n",
      "Male       Married         1477\n",
      "           NeverMarried     484\n",
      "           Cohabitating     265\n",
      "           Divorced         229\n",
      "           Widowed          100\n",
      "           Separated         68\n",
      "           Refused            1\n",
      "Name: DMDMARTLx, dtype: int64\n"
     ]
    }
   ],
   "source": [
    "x = df.groupby(\"RIAGENDRx\")[\"DMDMARTLx\"].value_counts()\n",
    "#x = x/x.sum()\n",
    "print(x)"
   ]
  },
  {
   "cell_type": "code",
   "execution_count": 32,
   "metadata": {},
   "outputs": [
    {
     "name": "stdout",
     "output_type": "stream",
     "text": [
      "<pandas.core.groupby.groupby.DataFrameGroupBy object at 0x7fcf8ce2dda0>\n"
     ]
    }
   ],
   "source": [
    "print(df.groupby(\"RIAGENDRx\"))"
   ]
  },
  {
   "cell_type": "code",
   "execution_count": 33,
   "metadata": {},
   "outputs": [
    {
     "name": "stdout",
     "output_type": "stream",
     "text": [
      "\n",
      "GENDER =  Female\n",
      "Married         0.457193\n",
      "NeverMarried    0.182456\n",
      "Divorced        0.122807\n",
      "Widowed         0.103860\n",
      "Cohabitating    0.091930\n",
      "Separated       0.041404\n",
      "Refused         0.000351\n",
      "Name: DMDMARTLx, dtype: float64\n",
      "\n",
      "GENDER =  Male\n",
      "Married         0.562881\n",
      "NeverMarried    0.184451\n",
      "Cohabitating    0.100991\n",
      "Divorced        0.087271\n",
      "Widowed         0.038110\n",
      "Separated       0.025915\n",
      "Refused         0.000381\n",
      "Name: DMDMARTLx, dtype: float64\n"
     ]
    }
   ],
   "source": [
    "for ky,db in df.groupby(\"RIAGENDRx\"):\n",
    "    print(\"\\nGENDER = \", ky)\n",
    "    x = db[\"DMDMARTLx\"].value_counts()\n",
    "    print(x/x.sum())"
   ]
  },
  {
   "cell_type": "code",
   "execution_count": 34,
   "metadata": {},
   "outputs": [
    {
     "name": "stdout",
     "output_type": "stream",
     "text": [
      "\n",
      "Gender =  Female , between 30 to 40 years age\n",
      "Married         0.535714\n",
      "NeverMarried    0.218045\n",
      "Cohabitating    0.122180\n",
      "Divorced        0.086466\n",
      "Separated       0.033835\n",
      "Widowed         0.003759\n",
      "Name: DMDMARTLx, dtype: float64\n",
      "\n",
      "Gender =  Male , between 30 to 40 years age\n",
      "Married         0.556680\n",
      "NeverMarried    0.204453\n",
      "Cohabitating    0.157895\n",
      "Divorced        0.048583\n",
      "Separated       0.024291\n",
      "Widowed         0.006073\n",
      "Refused         0.002024\n",
      "Name: DMDMARTLx, dtype: float64\n"
     ]
    }
   ],
   "source": [
    "df3040 = df.query('RIDAGEYR >= 30 & RIDAGEYR<= 40')\n",
    "for ky,db in df3040.groupby(\"RIAGENDRx\"):\n",
    "    print(\"\\nGender = \", ky, \", between 30 to 40 years age\")\n",
    "    x = db[\"DMDMARTLx\"].value_counts()\n",
    "    print(x/x.sum())"
   ]
  },
  {
   "cell_type": "code",
   "execution_count": 35,
   "metadata": {},
   "outputs": [
    {
     "name": "stdout",
     "output_type": "stream",
     "text": [
      "       SEQN  ALQ101  ALQ110  ALQ130  SMQ020  RIAGENDR  RIDAGEYR  RIDRETH1  \\\n",
      "3     83735     2.0     1.0     1.0       2         2        56         3   \n",
      "4     83736     2.0     1.0     1.0       2         2        42         4   \n",
      "5     83737     2.0     2.0     NaN       2         2        72         1   \n",
      "7     83742     1.0     NaN     1.0       2         2        32         1   \n",
      "12    83752     1.0     NaN     2.0       1         2        30         2   \n",
      "13    83754     2.0     1.0     1.0       2         2        67         2   \n",
      "15    83757     1.0     NaN     1.0       2         2        57         2   \n",
      "16    83759     2.0     2.0     NaN       2         2        19         1   \n",
      "17    83761     1.0     NaN     1.0       2         2        24         5   \n",
      "18    83762     NaN     NaN     NaN       1         2        27         4   \n",
      "19    83767     2.0     2.0     NaN       2         2        54         5   \n",
      "21    83773     2.0     2.0     NaN       2         2        80         3   \n",
      "22    83775     2.0     1.0     NaN       1         2        69         2   \n",
      "23    83776     NaN     NaN     NaN       2         2        58         1   \n",
      "25    83781     1.0     NaN     3.0       2         2        27         4   \n",
      "27    83785     2.0     1.0     1.0       1         2        60         2   \n",
      "29    83787     2.0     2.0     NaN       2         2        68         1   \n",
      "30    83788     2.0     1.0     1.0       1         2        69         3   \n",
      "33    83791     2.0     2.0     NaN       2         2        80         3   \n",
      "34    83799     NaN     NaN     NaN       2         2        37         2   \n",
      "35    83801     1.0     NaN     1.0       1         2        80         3   \n",
      "36    83802     NaN     NaN     NaN       2         2        29         1   \n",
      "38    83809     2.0     2.0     NaN       2         2        20         4   \n",
      "39    83812     1.0     NaN     2.0       2         2        68         1   \n",
      "43    83818     1.0     NaN     NaN       2         2        80         2   \n",
      "46    83822     2.0     2.0     NaN       2         2        20         4   \n",
      "47    83823     NaN     NaN     NaN       2         2        29         1   \n",
      "50    83828     1.0     NaN     2.0       2         2        39         1   \n",
      "52    83832     2.0     1.0     4.0       2         2        50         1   \n",
      "54    83836     1.0     NaN     4.0       2         2        18         1   \n",
      "...     ...     ...     ...     ...     ...       ...       ...       ...   \n",
      "5678  93600     1.0     NaN     2.0       1         2        22         3   \n",
      "5679  93606     1.0     NaN     1.0       2         2        28         3   \n",
      "5681  93608     2.0     2.0     NaN       2         2        57         4   \n",
      "5682  93609     1.0     NaN     2.0       1         2        74         3   \n",
      "5683  93610     2.0     1.0     NaN       2         2        28         4   \n",
      "5684  93611     2.0     1.0     NaN       2         2        70         3   \n",
      "5685  93612     2.0     2.0     NaN       2         2        36         5   \n",
      "5686  93614     1.0     NaN     NaN       2         2        60         3   \n",
      "5689  93619     NaN     NaN     NaN       2         2        44         5   \n",
      "5692  93622     1.0     NaN     NaN       2         2        80         3   \n",
      "5696  93629     NaN     NaN     NaN       1         2        51         3   \n",
      "5697  93631     2.0     1.0     NaN       2         2        68         3   \n",
      "5699  93636     1.0     NaN     NaN       2         2        80         3   \n",
      "5703  93643     1.0     NaN     2.0       1         2        64         4   \n",
      "5704  93644     1.0     NaN     1.0       2         2        75         4   \n",
      "5707  93653     1.0     NaN     3.0       2         2        25         3   \n",
      "5708  93654     2.0     2.0     NaN       2         2        29         5   \n",
      "5710  93656     2.0     2.0     NaN       2         2        75         1   \n",
      "5712  93661     1.0     NaN     2.0       2         2        27         2   \n",
      "5715  93665     NaN     NaN     NaN       2         2        34         3   \n",
      "5716  93668     1.0     NaN     NaN       1         2        73         1   \n",
      "5719  93672     2.0     2.0     NaN       1         2        63         2   \n",
      "5721  93676     1.0     NaN     2.0       2         2        35         4   \n",
      "5722  93677     1.0     NaN     1.0       2         2        34         3   \n",
      "5723  93679     2.0     1.0     NaN       1         2        72         4   \n",
      "5724  93682     NaN     NaN     NaN       2         2        41         5   \n",
      "5727  93689     2.0     1.0     NaN       2         2        69         1   \n",
      "5730  93695     2.0     2.0     NaN       1         2        76         3   \n",
      "5732  93697     1.0     NaN     1.0       1         2        80         3   \n",
      "5734  93702     1.0     NaN     2.0       2         2        24         3   \n",
      "\n",
      "      DMDCITZN  DMDEDUC2      ...       BMXBMI  BMXLEG  BMXARML  BMXARMC  \\\n",
      "3          1.0       5.0      ...         42.4    38.5     37.7     38.3   \n",
      "4          1.0       4.0      ...         20.3    37.4     36.0     27.2   \n",
      "5          2.0       2.0      ...         28.6    34.4     33.5     31.4   \n",
      "7          2.0       4.0      ...         28.2    34.1     33.1     31.5   \n",
      "12         1.0       4.0      ...         26.6    37.3     35.7     31.0   \n",
      "13         1.0       5.0      ...         43.7    34.8     38.6     42.7   \n",
      "15         1.0       1.0      ...         35.4    31.6     32.7     33.7   \n",
      "16         1.0       NaN      ...         32.8    40.7     38.6     35.9   \n",
      "17         2.0       5.0      ...         25.3    37.0     35.5     29.6   \n",
      "18         1.0       4.0      ...         38.0    40.1     39.0     41.6   \n",
      "19         1.0       4.0      ...         26.3    32.7     33.3     30.4   \n",
      "21         1.0       3.0      ...         30.2    33.4     36.2     30.3   \n",
      "22         1.0       1.0      ...         30.3    32.7     37.6     30.7   \n",
      "23         1.0       5.0      ...         22.8    34.5     31.0     28.0   \n",
      "25         1.0       5.0      ...         34.0    41.4     33.7     32.1   \n",
      "27         1.0       5.0      ...         35.9    31.0     33.1     36.0   \n",
      "29         1.0       1.0      ...         33.5    33.4     34.6     34.9   \n",
      "30         1.0       4.0      ...         31.0    35.0     35.8     33.0   \n",
      "33         1.0       2.0      ...         28.0    40.5     35.8     31.3   \n",
      "34         1.0       4.0      ...         25.5     NaN      NaN      NaN   \n",
      "35         1.0       5.0      ...         23.7    35.3     35.7     27.5   \n",
      "36         1.0       3.0      ...         23.7    38.4     36.4     26.6   \n",
      "38         1.0       3.0      ...         26.2    39.2     36.6     31.6   \n",
      "39         1.0       3.0      ...         29.1    26.0     34.0     31.5   \n",
      "43         1.0       1.0      ...         28.5    34.5     36.4     34.9   \n",
      "46         1.0       4.0      ...         22.2    38.6     37.5     25.5   \n",
      "47         2.0       1.0      ...         29.7    32.0     33.2     29.5   \n",
      "50         2.0       3.0      ...         27.2    36.8     34.6     29.1   \n",
      "52         2.0       1.0      ...         42.6    29.2     35.0     40.7   \n",
      "54         1.0       NaN      ...         28.0    36.5     34.5     28.5   \n",
      "...        ...       ...      ...          ...     ...      ...      ...   \n",
      "5678       1.0       3.0      ...         18.9    37.8     33.5     22.7   \n",
      "5679       1.0       4.0      ...         21.4    34.3     32.5     26.4   \n",
      "5681       1.0       5.0      ...         40.8    35.2     33.2     36.0   \n",
      "5682       1.0       5.0      ...         27.6    38.7     36.2     31.1   \n",
      "5683       1.0       4.0      ...         40.0    45.5     41.1     41.0   \n",
      "5684       1.0       3.0      ...         42.5    39.6     40.2     47.2   \n",
      "5685       1.0       5.0      ...         24.9    37.2     36.0     29.8   \n",
      "5686       1.0       3.0      ...         55.1    31.0     34.5     40.5   \n",
      "5689       2.0       2.0      ...         23.3    31.9     32.0     26.2   \n",
      "5692       1.0       4.0      ...         25.6     NaN      NaN      NaN   \n",
      "5696       1.0       1.0      ...          NaN     NaN      NaN      NaN   \n",
      "5697       1.0       4.0      ...         34.6    36.4     38.0     39.3   \n",
      "5699       1.0       3.0      ...         27.8     NaN     32.0     30.3   \n",
      "5703       1.0       3.0      ...         41.1    35.2     34.5     40.7   \n",
      "5704       1.0       1.0      ...         36.3    34.6     38.0     41.2   \n",
      "5707       1.0       5.0      ...         26.8    41.8     35.9     29.8   \n",
      "5708       2.0       5.0      ...         23.4    36.3     32.7     26.6   \n",
      "5710       1.0       3.0      ...         37.9    31.5     35.5     33.6   \n",
      "5712       1.0       4.0      ...         41.0    36.5     34.5     37.1   \n",
      "5715       1.0       5.0      ...         24.0    38.9     37.5     27.6   \n",
      "5716       1.0       1.0      ...         53.9     NaN     35.5     44.7   \n",
      "5719       1.0       1.0      ...         37.6    35.0     33.0     38.2   \n",
      "5721       1.0       5.0      ...         35.3    41.5     37.5     38.9   \n",
      "5722       1.0       5.0      ...         22.2    39.8     37.7     28.5   \n",
      "5723       1.0       2.0      ...         23.4    32.0     35.5     26.8   \n",
      "5724       1.0       5.0      ...         20.9    37.1     35.3     26.9   \n",
      "5727       1.0       1.0      ...         28.1    32.2     32.6     28.7   \n",
      "5730       1.0       3.0      ...         21.5    38.2     37.0     29.5   \n",
      "5732       1.0       4.0      ...         31.0    31.3     37.5     28.8   \n",
      "5734       1.0       5.0      ...         21.4    38.2     33.5     26.2   \n",
      "\n",
      "      BMXWAIST  HIQ210        DMDEDUC2x  RIAGENDRx    agegrp     DMDMARTLx  \n",
      "3        110.1     2.0          College     Female  (50, 60]  Cohabitating  \n",
      "4         80.4     2.0  Some college/AA     Female  (40, 50]      Divorced  \n",
      "5         92.9     NaN             9-11     Female  (70, 80]     Separated  \n",
      "7         93.3     2.0  Some college/AA     Female  (30, 40]       Married  \n",
      "12        90.7     2.0  Some college/AA     Female  (18, 30]  Cohabitating  \n",
      "13       123.0     2.0          College     Female  (60, 70]       Married  \n",
      "15       113.5     2.0               <9     Female  (50, 60]     Separated  \n",
      "16       104.6     1.0          Missing     Female  (18, 30]           NaN  \n",
      "17        79.5     NaN          College     Female  (18, 30]  NeverMarried  \n",
      "18       114.8     1.0  Some college/AA     Female  (18, 30]  NeverMarried  \n",
      "19        88.9     2.0  Some college/AA     Female  (50, 60]      Divorced  \n",
      "21       108.4     2.0           HS/GED     Female  (70, 80]       Widowed  \n",
      "22       106.8     2.0               <9     Female  (60, 70]     Separated  \n",
      "23        83.0     2.0          College     Female  (50, 60]       Married  \n",
      "25       103.6     2.0          College     Female  (18, 30]  NeverMarried  \n",
      "27       108.0     2.0          College     Female  (50, 60]      Divorced  \n",
      "29       103.1     2.0               <9     Female  (60, 70]      Divorced  \n",
      "30       103.0     2.0  Some college/AA     Female  (60, 70]       Married  \n",
      "33       104.2     2.0             9-11     Female  (70, 80]       Married  \n",
      "34         NaN     2.0  Some college/AA     Female  (30, 40]       Married  \n",
      "35        90.1     2.0          College     Female  (70, 80]       Married  \n",
      "36        93.0     2.0           HS/GED     Female  (18, 30]       Married  \n",
      "38        92.6     NaN           HS/GED     Female  (18, 30]  NeverMarried  \n",
      "39       110.0     2.0           HS/GED     Female  (60, 70]       Married  \n",
      "43        97.9     2.0               <9     Female  (70, 80]       Widowed  \n",
      "46        78.4     NaN  Some college/AA     Female  (18, 30]  NeverMarried  \n",
      "47        96.5     NaN               <9     Female  (18, 30]  NeverMarried  \n",
      "50        94.6     NaN           HS/GED     Female  (30, 40]       Married  \n",
      "52       129.1     NaN               <9     Female  (40, 50]     Separated  \n",
      "54        89.3     2.0          Missing     Female       NaN           NaN  \n",
      "...        ...     ...              ...        ...       ...           ...  \n",
      "5678      71.2     NaN           HS/GED     Female  (18, 30]  NeverMarried  \n",
      "5679      75.1     2.0  Some college/AA     Female  (18, 30]       Married  \n",
      "5681     113.9     2.0          College     Female  (50, 60]       Married  \n",
      "5682     102.8     2.0          College     Female  (70, 80]      Divorced  \n",
      "5683     118.6     2.0  Some college/AA     Female  (18, 30]  NeverMarried  \n",
      "5684     124.5     2.0           HS/GED     Female  (60, 70]       Married  \n",
      "5685      89.0     2.0          College     Female  (30, 40]       Married  \n",
      "5686     148.4     2.0           HS/GED     Female  (50, 60]  Cohabitating  \n",
      "5689      81.4     1.0             9-11     Female  (40, 50]       Married  \n",
      "5692       NaN     2.0  Some college/AA     Female  (70, 80]       Widowed  \n",
      "5696       NaN     2.0               <9     Female  (50, 60]      Divorced  \n",
      "5697     114.8     2.0  Some college/AA     Female  (60, 70]       Married  \n",
      "5699      98.5     2.0           HS/GED     Female  (70, 80]      Divorced  \n",
      "5703     111.3     NaN           HS/GED     Female  (60, 70]       Married  \n",
      "5704     122.0     2.0               <9     Female  (70, 80]  NeverMarried  \n",
      "5707      79.0     1.0          College     Female  (18, 30]  Cohabitating  \n",
      "5708      80.2     9.0          College     Female  (18, 30]       Married  \n",
      "5710     122.0     2.0           HS/GED     Female  (70, 80]       Widowed  \n",
      "5712     127.0     1.0  Some college/AA     Female  (18, 30]  Cohabitating  \n",
      "5715      91.5     2.0          College     Female  (30, 40]       Married  \n",
      "5716       NaN     1.0               <9     Female  (70, 80]       Widowed  \n",
      "5719     122.5     2.0               <9     Female  (60, 70]       Married  \n",
      "5721     110.9     2.0          College     Female  (30, 40]      Divorced  \n",
      "5722      83.3     2.0          College     Female  (30, 40]  NeverMarried  \n",
      "5723      90.4     2.0             9-11     Female  (70, 80]       Widowed  \n",
      "5724      80.8     2.0          College     Female  (40, 50]       Married  \n",
      "5727     101.1     2.0               <9     Female  (60, 70]       Married  \n",
      "5730      95.0     2.0           HS/GED     Female  (70, 80]       Widowed  \n",
      "5732       NaN     2.0  Some college/AA     Female  (70, 80]       Widowed  \n",
      "5734      72.5     2.0          College     Female  (18, 30]  NeverMarried  \n",
      "\n",
      "[2976 rows x 32 columns]\n"
     ]
    }
   ],
   "source": [
    "df_female = df.query('RIAGENDRx == \"Female\"')\n",
    "print(df_female)\n",
    "\n",
    "#df[\"agegrp\"] = pd.cut(df.RIDAGEYR,[18, 30, 40, 50, 60, 70, 80])"
   ]
  },
  {
   "cell_type": "code",
   "execution_count": 36,
   "metadata": {},
   "outputs": [
    {
     "data": {
      "text/plain": [
       "Female    2976\n",
       "Male      2759\n",
       "Name: RIAGENDRx, dtype: int64"
      ]
     },
     "execution_count": 36,
     "metadata": {},
     "output_type": "execute_result"
    }
   ],
   "source": [
    "df.RIAGENDRx.value_counts()"
   ]
  },
  {
   "cell_type": "code",
   "execution_count": 37,
   "metadata": {},
   "outputs": [
    {
     "data": {
      "text/plain": [
       "count    2976.000000\n",
       "mean       47.793011\n",
       "std        18.299419\n",
       "min        18.000000\n",
       "25%        32.000000\n",
       "50%        47.000000\n",
       "75%        62.000000\n",
       "max        80.000000\n",
       "Name: RIDAGEYR, dtype: float64"
      ]
     },
     "execution_count": 37,
     "metadata": {},
     "output_type": "execute_result"
    }
   ],
   "source": [
    "df_female.RIDAGEYR.describe()"
   ]
  },
  {
   "cell_type": "code",
   "execution_count": 38,
   "metadata": {},
   "outputs": [
    {
     "name": "stderr",
     "output_type": "stream",
     "text": [
      "/Users/farhin/anaconda2/envs/py36/lib/python3.6/site-packages/ipykernel_launcher.py:1: SettingWithCopyWarning: \n",
      "A value is trying to be set on a copy of a slice from a DataFrame.\n",
      "Try using .loc[row_indexer,col_indexer] = value instead\n",
      "\n",
      "See the caveats in the documentation: http://pandas.pydata.org/pandas-docs/stable/indexing.html#indexing-view-versus-copy\n",
      "  \"\"\"Entry point for launching an IPython kernel.\n"
     ]
    }
   ],
   "source": [
    "df_female[\"agegrp\"] = pd.cut(df_female.RIDAGEYR,[18, 20,30, 40, 50, 60, 70, 80])\n",
    "#df_female.agegrp.value_counts()"
   ]
  },
  {
   "cell_type": "code",
   "execution_count": 39,
   "metadata": {},
   "outputs": [
    {
     "name": "stdout",
     "output_type": "stream",
     "text": [
      "agegrp    DMDMARTLx   \n",
      "(18, 20]  NeverMarried     30\n",
      "          Cohabitating      8\n",
      "          Married           1\n",
      "(20, 30]  NeverMarried    229\n",
      "          Married         157\n",
      "          Cohabitating    106\n",
      "          Divorced         11\n",
      "          Separated        11\n",
      "(30, 40]  Married         258\n",
      "          NeverMarried     97\n",
      "          Cohabitating     57\n",
      "          Divorced         43\n",
      "          Separated        17\n",
      "          Widowed           2\n",
      "(40, 50]  Married         288\n",
      "          Divorced         69\n",
      "          NeverMarried     63\n",
      "          Cohabitating     37\n",
      "          Separated        33\n",
      "          Widowed          12\n",
      "(50, 60]  Married         257\n",
      "          Divorced         83\n",
      "          NeverMarried     42\n",
      "          Cohabitating     32\n",
      "          Widowed          28\n",
      "          Separated        27\n",
      "(60, 70]  Married         212\n",
      "          Divorced         85\n",
      "          Widowed          65\n",
      "          NeverMarried     38\n",
      "          Separated        22\n",
      "          Cohabitating     19\n",
      "(70, 80]  Widowed         189\n",
      "          Married         130\n",
      "          Divorced         59\n",
      "          NeverMarried     21\n",
      "          Separated         8\n",
      "          Cohabitating      3\n",
      "Name: DMDMARTLx, dtype: int64\n",
      "DMDMARTLx  Cohabitating  Divorced  Married  NeverMarried  Separated  Widowed\n",
      "agegrp                                                                      \n",
      "(18, 20]            8.0       NaN      1.0          30.0        NaN      NaN\n",
      "(20, 30]          106.0      11.0    157.0         229.0       11.0      NaN\n",
      "(30, 40]           57.0      43.0    258.0          97.0       17.0      2.0\n",
      "(40, 50]           37.0      69.0    288.0          63.0       33.0     12.0\n",
      "(50, 60]           32.0      83.0    257.0          42.0       27.0     28.0\n",
      "(60, 70]           19.0      85.0    212.0          38.0       22.0     65.0\n",
      "(70, 80]            3.0      59.0    130.0          21.0        8.0    189.0\n",
      "DMDMARTLx  Cohabitating  Divorced   Married  NeverMarried  Separated   Widowed\n",
      "agegrp                                                                        \n",
      "(18, 20]       0.205128       NaN  0.025641      0.769231        NaN       NaN\n",
      "(20, 30]       0.206226  0.021401  0.305447      0.445525   0.021401       NaN\n",
      "(30, 40]       0.120253  0.090717  0.544304      0.204641   0.035865  0.004219\n",
      "(40, 50]       0.073705  0.137450  0.573705      0.125498   0.065737  0.023904\n",
      "(50, 60]       0.068230  0.176972  0.547974      0.089552   0.057569  0.059701\n",
      "(60, 70]       0.043084  0.192744  0.480726      0.086168   0.049887  0.147392\n",
      "(70, 80]       0.007317  0.143902  0.317073      0.051220   0.019512  0.460976\n"
     ]
    }
   ],
   "source": [
    "import math\n",
    "dx = df_female.loc[~df_female.DMDMARTLx.isin([\"Refused\",np.nan]),:]\n",
    "dx = dx.groupby(\"agegrp\")[\"DMDMARTLx\"]\n",
    "dx = dx.value_counts()\n",
    "print(dx)\n",
    "dx = dx.unstack()\n",
    "print(dx)\n",
    "dx = dx.apply(lambda x: x/x.sum(), axis = 1)\n",
    "print(dx)"
   ]
  },
  {
   "cell_type": "code",
   "execution_count": 40,
   "metadata": {},
   "outputs": [
    {
     "data": {
      "text/plain": [
       "Index(['SEQN', 'ALQ101', 'ALQ110', 'ALQ130', 'SMQ020', 'RIAGENDR', 'RIDAGEYR',\n",
       "       'RIDRETH1', 'DMDCITZN', 'DMDEDUC2', 'DMDMARTL', 'DMDHHSIZ', 'WTINT2YR',\n",
       "       'SDMVPSU', 'SDMVSTRA', 'INDFMPIR', 'BPXSY1', 'BPXDI1', 'BPXSY2',\n",
       "       'BPXDI2', 'BMXWT', 'BMXHT', 'BMXBMI', 'BMXLEG', 'BMXARML', 'BMXARMC',\n",
       "       'BMXWAIST', 'HIQ210'],\n",
       "      dtype='object')"
      ]
     },
     "execution_count": 40,
     "metadata": {},
     "output_type": "execute_result"
    }
   ],
   "source": [
    "df = pd.read_csv(\"NHANES_2015_2016.csv\")\n",
    "df.columns"
   ]
  },
  {
   "cell_type": "code",
   "execution_count": 41,
   "metadata": {},
   "outputs": [
    {
     "data": {
      "text/html": [
       "<div>\n",
       "<style scoped>\n",
       "    .dataframe tbody tr th:only-of-type {\n",
       "        vertical-align: middle;\n",
       "    }\n",
       "\n",
       "    .dataframe tbody tr th {\n",
       "        vertical-align: top;\n",
       "    }\n",
       "\n",
       "    .dataframe thead th {\n",
       "        text-align: right;\n",
       "    }\n",
       "</style>\n",
       "<table border=\"1\" class=\"dataframe\">\n",
       "  <thead>\n",
       "    <tr style=\"text-align: right;\">\n",
       "      <th></th>\n",
       "      <th>SEQN</th>\n",
       "      <th>ALQ101</th>\n",
       "      <th>ALQ110</th>\n",
       "      <th>ALQ130</th>\n",
       "      <th>SMQ020</th>\n",
       "      <th>RIAGENDR</th>\n",
       "      <th>RIDAGEYR</th>\n",
       "      <th>RIDRETH1</th>\n",
       "      <th>DMDCITZN</th>\n",
       "      <th>DMDEDUC2</th>\n",
       "      <th>...</th>\n",
       "      <th>BMXWT</th>\n",
       "      <th>BMXHT</th>\n",
       "      <th>BMXBMI</th>\n",
       "      <th>BMXLEG</th>\n",
       "      <th>BMXARML</th>\n",
       "      <th>BMXARMC</th>\n",
       "      <th>BMXWAIST</th>\n",
       "      <th>HIQ210</th>\n",
       "      <th>RIAGENDRx</th>\n",
       "      <th>DMDMARTLx</th>\n",
       "    </tr>\n",
       "  </thead>\n",
       "  <tbody>\n",
       "    <tr>\n",
       "      <th>0</th>\n",
       "      <td>83732</td>\n",
       "      <td>1.0</td>\n",
       "      <td>NaN</td>\n",
       "      <td>1.0</td>\n",
       "      <td>1</td>\n",
       "      <td>1</td>\n",
       "      <td>62</td>\n",
       "      <td>3</td>\n",
       "      <td>1.0</td>\n",
       "      <td>5.0</td>\n",
       "      <td>...</td>\n",
       "      <td>94.8</td>\n",
       "      <td>184.5</td>\n",
       "      <td>27.8</td>\n",
       "      <td>43.3</td>\n",
       "      <td>43.6</td>\n",
       "      <td>35.9</td>\n",
       "      <td>101.1</td>\n",
       "      <td>2.0</td>\n",
       "      <td>MALE</td>\n",
       "      <td>Married</td>\n",
       "    </tr>\n",
       "    <tr>\n",
       "      <th>1</th>\n",
       "      <td>83733</td>\n",
       "      <td>1.0</td>\n",
       "      <td>NaN</td>\n",
       "      <td>6.0</td>\n",
       "      <td>1</td>\n",
       "      <td>1</td>\n",
       "      <td>53</td>\n",
       "      <td>3</td>\n",
       "      <td>2.0</td>\n",
       "      <td>3.0</td>\n",
       "      <td>...</td>\n",
       "      <td>90.4</td>\n",
       "      <td>171.4</td>\n",
       "      <td>30.8</td>\n",
       "      <td>38.0</td>\n",
       "      <td>40.0</td>\n",
       "      <td>33.2</td>\n",
       "      <td>107.9</td>\n",
       "      <td>NaN</td>\n",
       "      <td>MALE</td>\n",
       "      <td>Divorced</td>\n",
       "    </tr>\n",
       "    <tr>\n",
       "      <th>2</th>\n",
       "      <td>83734</td>\n",
       "      <td>1.0</td>\n",
       "      <td>NaN</td>\n",
       "      <td>NaN</td>\n",
       "      <td>1</td>\n",
       "      <td>1</td>\n",
       "      <td>78</td>\n",
       "      <td>3</td>\n",
       "      <td>1.0</td>\n",
       "      <td>3.0</td>\n",
       "      <td>...</td>\n",
       "      <td>83.4</td>\n",
       "      <td>170.1</td>\n",
       "      <td>28.8</td>\n",
       "      <td>35.6</td>\n",
       "      <td>37.0</td>\n",
       "      <td>31.0</td>\n",
       "      <td>116.5</td>\n",
       "      <td>2.0</td>\n",
       "      <td>MALE</td>\n",
       "      <td>Married</td>\n",
       "    </tr>\n",
       "    <tr>\n",
       "      <th>3</th>\n",
       "      <td>83735</td>\n",
       "      <td>2.0</td>\n",
       "      <td>1.0</td>\n",
       "      <td>1.0</td>\n",
       "      <td>2</td>\n",
       "      <td>2</td>\n",
       "      <td>56</td>\n",
       "      <td>3</td>\n",
       "      <td>1.0</td>\n",
       "      <td>5.0</td>\n",
       "      <td>...</td>\n",
       "      <td>109.8</td>\n",
       "      <td>160.9</td>\n",
       "      <td>42.4</td>\n",
       "      <td>38.5</td>\n",
       "      <td>37.7</td>\n",
       "      <td>38.3</td>\n",
       "      <td>110.1</td>\n",
       "      <td>2.0</td>\n",
       "      <td>Female</td>\n",
       "      <td>Cohabitating</td>\n",
       "    </tr>\n",
       "    <tr>\n",
       "      <th>4</th>\n",
       "      <td>83736</td>\n",
       "      <td>2.0</td>\n",
       "      <td>1.0</td>\n",
       "      <td>1.0</td>\n",
       "      <td>2</td>\n",
       "      <td>2</td>\n",
       "      <td>42</td>\n",
       "      <td>4</td>\n",
       "      <td>1.0</td>\n",
       "      <td>4.0</td>\n",
       "      <td>...</td>\n",
       "      <td>55.2</td>\n",
       "      <td>164.9</td>\n",
       "      <td>20.3</td>\n",
       "      <td>37.4</td>\n",
       "      <td>36.0</td>\n",
       "      <td>27.2</td>\n",
       "      <td>80.4</td>\n",
       "      <td>2.0</td>\n",
       "      <td>Female</td>\n",
       "      <td>Divorced</td>\n",
       "    </tr>\n",
       "  </tbody>\n",
       "</table>\n",
       "<p>5 rows × 30 columns</p>\n",
       "</div>"
      ],
      "text/plain": [
       "    SEQN  ALQ101  ALQ110  ALQ130  SMQ020  RIAGENDR  RIDAGEYR  RIDRETH1  \\\n",
       "0  83732     1.0     NaN     1.0       1         1        62         3   \n",
       "1  83733     1.0     NaN     6.0       1         1        53         3   \n",
       "2  83734     1.0     NaN     NaN       1         1        78         3   \n",
       "3  83735     2.0     1.0     1.0       2         2        56         3   \n",
       "4  83736     2.0     1.0     1.0       2         2        42         4   \n",
       "\n",
       "   DMDCITZN  DMDEDUC2      ...       BMXWT  BMXHT  BMXBMI  BMXLEG  BMXARML  \\\n",
       "0       1.0       5.0      ...        94.8  184.5    27.8    43.3     43.6   \n",
       "1       2.0       3.0      ...        90.4  171.4    30.8    38.0     40.0   \n",
       "2       1.0       3.0      ...        83.4  170.1    28.8    35.6     37.0   \n",
       "3       1.0       5.0      ...       109.8  160.9    42.4    38.5     37.7   \n",
       "4       1.0       4.0      ...        55.2  164.9    20.3    37.4     36.0   \n",
       "\n",
       "   BMXARMC  BMXWAIST  HIQ210  RIAGENDRx     DMDMARTLx  \n",
       "0     35.9     101.1     2.0       MALE       Married  \n",
       "1     33.2     107.9     NaN       MALE      Divorced  \n",
       "2     31.0     116.5     2.0       MALE       Married  \n",
       "3     38.3     110.1     2.0     Female  Cohabitating  \n",
       "4     27.2      80.4     2.0     Female      Divorced  \n",
       "\n",
       "[5 rows x 30 columns]"
      ]
     },
     "execution_count": 41,
     "metadata": {},
     "output_type": "execute_result"
    }
   ],
   "source": [
    "df[\"RIAGENDRx\"] = df.RIAGENDR.replace({1: 'MALE', 2: 'Female'})\n",
    "df[\"DMDMARTLx\"] = df.DMDMARTL.replace({1: \"Married\", 2: \"Widowed\", 3: \"Divorced\", 4: \"Separated\", 5: \"NeverMarried\", 6: \"Cohabitating\", 77: \"Refused\", 99: \"Unknown\"})\n",
    "df.head()"
   ]
  },
  {
   "cell_type": "code",
   "execution_count": 42,
   "metadata": {},
   "outputs": [
    {
     "data": {
      "text/html": [
       "<div>\n",
       "<style scoped>\n",
       "    .dataframe tbody tr th:only-of-type {\n",
       "        vertical-align: middle;\n",
       "    }\n",
       "\n",
       "    .dataframe tbody tr th {\n",
       "        vertical-align: top;\n",
       "    }\n",
       "\n",
       "    .dataframe thead th {\n",
       "        text-align: right;\n",
       "    }\n",
       "</style>\n",
       "<table border=\"1\" class=\"dataframe\">\n",
       "  <thead>\n",
       "    <tr style=\"text-align: right;\">\n",
       "      <th></th>\n",
       "      <th>SEQN</th>\n",
       "      <th>ALQ101</th>\n",
       "      <th>ALQ110</th>\n",
       "      <th>ALQ130</th>\n",
       "      <th>SMQ020</th>\n",
       "      <th>RIAGENDR</th>\n",
       "      <th>RIDAGEYR</th>\n",
       "      <th>RIDRETH1</th>\n",
       "      <th>DMDCITZN</th>\n",
       "      <th>DMDEDUC2</th>\n",
       "      <th>...</th>\n",
       "      <th>BMXWT</th>\n",
       "      <th>BMXHT</th>\n",
       "      <th>BMXBMI</th>\n",
       "      <th>BMXLEG</th>\n",
       "      <th>BMXARML</th>\n",
       "      <th>BMXARMC</th>\n",
       "      <th>BMXWAIST</th>\n",
       "      <th>HIQ210</th>\n",
       "      <th>RIAGENDRx</th>\n",
       "      <th>DMDMARTLx</th>\n",
       "    </tr>\n",
       "  </thead>\n",
       "  <tbody>\n",
       "    <tr>\n",
       "      <th>0</th>\n",
       "      <td>83732</td>\n",
       "      <td>1.0</td>\n",
       "      <td>NaN</td>\n",
       "      <td>1.0</td>\n",
       "      <td>1</td>\n",
       "      <td>1</td>\n",
       "      <td>62</td>\n",
       "      <td>3</td>\n",
       "      <td>1.0</td>\n",
       "      <td>5.0</td>\n",
       "      <td>...</td>\n",
       "      <td>94.8</td>\n",
       "      <td>184.5</td>\n",
       "      <td>27.8</td>\n",
       "      <td>43.3</td>\n",
       "      <td>43.6</td>\n",
       "      <td>35.9</td>\n",
       "      <td>101.1</td>\n",
       "      <td>2.0</td>\n",
       "      <td>MALE</td>\n",
       "      <td>Married</td>\n",
       "    </tr>\n",
       "    <tr>\n",
       "      <th>1</th>\n",
       "      <td>83733</td>\n",
       "      <td>1.0</td>\n",
       "      <td>NaN</td>\n",
       "      <td>6.0</td>\n",
       "      <td>1</td>\n",
       "      <td>1</td>\n",
       "      <td>53</td>\n",
       "      <td>3</td>\n",
       "      <td>2.0</td>\n",
       "      <td>3.0</td>\n",
       "      <td>...</td>\n",
       "      <td>90.4</td>\n",
       "      <td>171.4</td>\n",
       "      <td>30.8</td>\n",
       "      <td>38.0</td>\n",
       "      <td>40.0</td>\n",
       "      <td>33.2</td>\n",
       "      <td>107.9</td>\n",
       "      <td>NaN</td>\n",
       "      <td>MALE</td>\n",
       "      <td>Divorced</td>\n",
       "    </tr>\n",
       "    <tr>\n",
       "      <th>2</th>\n",
       "      <td>83734</td>\n",
       "      <td>1.0</td>\n",
       "      <td>NaN</td>\n",
       "      <td>NaN</td>\n",
       "      <td>1</td>\n",
       "      <td>1</td>\n",
       "      <td>78</td>\n",
       "      <td>3</td>\n",
       "      <td>1.0</td>\n",
       "      <td>3.0</td>\n",
       "      <td>...</td>\n",
       "      <td>83.4</td>\n",
       "      <td>170.1</td>\n",
       "      <td>28.8</td>\n",
       "      <td>35.6</td>\n",
       "      <td>37.0</td>\n",
       "      <td>31.0</td>\n",
       "      <td>116.5</td>\n",
       "      <td>2.0</td>\n",
       "      <td>MALE</td>\n",
       "      <td>Married</td>\n",
       "    </tr>\n",
       "    <tr>\n",
       "      <th>6</th>\n",
       "      <td>83741</td>\n",
       "      <td>1.0</td>\n",
       "      <td>NaN</td>\n",
       "      <td>8.0</td>\n",
       "      <td>1</td>\n",
       "      <td>1</td>\n",
       "      <td>22</td>\n",
       "      <td>4</td>\n",
       "      <td>1.0</td>\n",
       "      <td>4.0</td>\n",
       "      <td>...</td>\n",
       "      <td>76.6</td>\n",
       "      <td>165.4</td>\n",
       "      <td>28.0</td>\n",
       "      <td>38.8</td>\n",
       "      <td>38.0</td>\n",
       "      <td>34.0</td>\n",
       "      <td>86.6</td>\n",
       "      <td>NaN</td>\n",
       "      <td>MALE</td>\n",
       "      <td>NeverMarried</td>\n",
       "    </tr>\n",
       "    <tr>\n",
       "      <th>8</th>\n",
       "      <td>83743</td>\n",
       "      <td>NaN</td>\n",
       "      <td>NaN</td>\n",
       "      <td>NaN</td>\n",
       "      <td>2</td>\n",
       "      <td>1</td>\n",
       "      <td>18</td>\n",
       "      <td>5</td>\n",
       "      <td>1.0</td>\n",
       "      <td>NaN</td>\n",
       "      <td>...</td>\n",
       "      <td>72.4</td>\n",
       "      <td>166.1</td>\n",
       "      <td>26.2</td>\n",
       "      <td>NaN</td>\n",
       "      <td>NaN</td>\n",
       "      <td>NaN</td>\n",
       "      <td>NaN</td>\n",
       "      <td>2.0</td>\n",
       "      <td>MALE</td>\n",
       "      <td>NaN</td>\n",
       "    </tr>\n",
       "  </tbody>\n",
       "</table>\n",
       "<p>5 rows × 30 columns</p>\n",
       "</div>"
      ],
      "text/plain": [
       "    SEQN  ALQ101  ALQ110  ALQ130  SMQ020  RIAGENDR  RIDAGEYR  RIDRETH1  \\\n",
       "0  83732     1.0     NaN     1.0       1         1        62         3   \n",
       "1  83733     1.0     NaN     6.0       1         1        53         3   \n",
       "2  83734     1.0     NaN     NaN       1         1        78         3   \n",
       "6  83741     1.0     NaN     8.0       1         1        22         4   \n",
       "8  83743     NaN     NaN     NaN       2         1        18         5   \n",
       "\n",
       "   DMDCITZN  DMDEDUC2      ...       BMXWT  BMXHT  BMXBMI  BMXLEG  BMXARML  \\\n",
       "0       1.0       5.0      ...        94.8  184.5    27.8    43.3     43.6   \n",
       "1       2.0       3.0      ...        90.4  171.4    30.8    38.0     40.0   \n",
       "2       1.0       3.0      ...        83.4  170.1    28.8    35.6     37.0   \n",
       "6       1.0       4.0      ...        76.6  165.4    28.0    38.8     38.0   \n",
       "8       1.0       NaN      ...        72.4  166.1    26.2     NaN      NaN   \n",
       "\n",
       "   BMXARMC  BMXWAIST  HIQ210  RIAGENDRx     DMDMARTLx  \n",
       "0     35.9     101.1     2.0       MALE       Married  \n",
       "1     33.2     107.9     NaN       MALE      Divorced  \n",
       "2     31.0     116.5     2.0       MALE       Married  \n",
       "6     34.0      86.6     NaN       MALE  NeverMarried  \n",
       "8      NaN       NaN     2.0       MALE           NaN  \n",
       "\n",
       "[5 rows x 30 columns]"
      ]
     },
     "execution_count": 42,
     "metadata": {},
     "output_type": "execute_result"
    }
   ],
   "source": [
    "df_male = df.query('RIAGENDRx == \"MALE\"')\n",
    "df_male.head()"
   ]
  },
  {
   "cell_type": "code",
   "execution_count": 43,
   "metadata": {},
   "outputs": [
    {
     "data": {
      "text/html": [
       "<div>\n",
       "<style scoped>\n",
       "    .dataframe tbody tr th:only-of-type {\n",
       "        vertical-align: middle;\n",
       "    }\n",
       "\n",
       "    .dataframe tbody tr th {\n",
       "        vertical-align: top;\n",
       "    }\n",
       "\n",
       "    .dataframe thead th {\n",
       "        text-align: right;\n",
       "    }\n",
       "</style>\n",
       "<table border=\"1\" class=\"dataframe\">\n",
       "  <thead>\n",
       "    <tr style=\"text-align: right;\">\n",
       "      <th></th>\n",
       "      <th>SEQN</th>\n",
       "      <th>ALQ101</th>\n",
       "      <th>ALQ110</th>\n",
       "      <th>ALQ130</th>\n",
       "      <th>SMQ020</th>\n",
       "      <th>RIAGENDR</th>\n",
       "      <th>RIDAGEYR</th>\n",
       "      <th>RIDRETH1</th>\n",
       "      <th>DMDCITZN</th>\n",
       "      <th>DMDEDUC2</th>\n",
       "      <th>...</th>\n",
       "      <th>BPXSY2</th>\n",
       "      <th>BPXDI2</th>\n",
       "      <th>BMXWT</th>\n",
       "      <th>BMXHT</th>\n",
       "      <th>BMXBMI</th>\n",
       "      <th>BMXLEG</th>\n",
       "      <th>BMXARML</th>\n",
       "      <th>BMXARMC</th>\n",
       "      <th>BMXWAIST</th>\n",
       "      <th>HIQ210</th>\n",
       "    </tr>\n",
       "  </thead>\n",
       "  <tbody>\n",
       "    <tr>\n",
       "      <th>count</th>\n",
       "      <td>2759.000000</td>\n",
       "      <td>2548.000000</td>\n",
       "      <td>528.000000</td>\n",
       "      <td>1802.000000</td>\n",
       "      <td>2759.000000</td>\n",
       "      <td>2759.0</td>\n",
       "      <td>2759.000000</td>\n",
       "      <td>2759.000000</td>\n",
       "      <td>2759.000000</td>\n",
       "      <td>2624.000000</td>\n",
       "      <td>...</td>\n",
       "      <td>2678.000000</td>\n",
       "      <td>2678.000000</td>\n",
       "      <td>2719.000000</td>\n",
       "      <td>2727.00000</td>\n",
       "      <td>2718.000000</td>\n",
       "      <td>2592.000000</td>\n",
       "      <td>2622.000000</td>\n",
       "      <td>2622.000000</td>\n",
       "      <td>2606.000000</td>\n",
       "      <td>2228.000000</td>\n",
       "    </tr>\n",
       "    <tr>\n",
       "      <th>mean</th>\n",
       "      <td>88685.926785</td>\n",
       "      <td>1.209969</td>\n",
       "      <td>1.598485</td>\n",
       "      <td>4.922863</td>\n",
       "      <td>1.501631</td>\n",
       "      <td>1.0</td>\n",
       "      <td>48.332004</td>\n",
       "      <td>3.079014</td>\n",
       "      <td>1.183400</td>\n",
       "      <td>3.403201</td>\n",
       "      <td>...</td>\n",
       "      <td>126.594473</td>\n",
       "      <td>70.457058</td>\n",
       "      <td>86.573262</td>\n",
       "      <td>173.13205</td>\n",
       "      <td>28.778072</td>\n",
       "      <td>40.684877</td>\n",
       "      <td>38.747674</td>\n",
       "      <td>33.970023</td>\n",
       "      <td>100.764850</td>\n",
       "      <td>1.927289</td>\n",
       "    </tr>\n",
       "    <tr>\n",
       "      <th>std</th>\n",
       "      <td>2885.859127</td>\n",
       "      <td>0.433513</td>\n",
       "      <td>0.635566</td>\n",
       "      <td>40.694528</td>\n",
       "      <td>0.594189</td>\n",
       "      <td>0.0</td>\n",
       "      <td>18.571168</td>\n",
       "      <td>1.292694</td>\n",
       "      <td>0.438039</td>\n",
       "      <td>1.314080</td>\n",
       "      <td>...</td>\n",
       "      <td>17.625812</td>\n",
       "      <td>13.632792</td>\n",
       "      <td>21.096863</td>\n",
       "      <td>7.83411</td>\n",
       "      <td>6.252568</td>\n",
       "      <td>3.286647</td>\n",
       "      <td>2.359298</td>\n",
       "      <td>4.781493</td>\n",
       "      <td>16.349224</td>\n",
       "      <td>0.409924</td>\n",
       "    </tr>\n",
       "    <tr>\n",
       "      <th>min</th>\n",
       "      <td>83732.000000</td>\n",
       "      <td>1.000000</td>\n",
       "      <td>1.000000</td>\n",
       "      <td>1.000000</td>\n",
       "      <td>1.000000</td>\n",
       "      <td>1.0</td>\n",
       "      <td>18.000000</td>\n",
       "      <td>1.000000</td>\n",
       "      <td>1.000000</td>\n",
       "      <td>1.000000</td>\n",
       "      <td>...</td>\n",
       "      <td>84.000000</td>\n",
       "      <td>0.000000</td>\n",
       "      <td>39.200000</td>\n",
       "      <td>136.50000</td>\n",
       "      <td>15.100000</td>\n",
       "      <td>28.600000</td>\n",
       "      <td>29.700000</td>\n",
       "      <td>21.800000</td>\n",
       "      <td>66.400000</td>\n",
       "      <td>1.000000</td>\n",
       "    </tr>\n",
       "    <tr>\n",
       "      <th>25%</th>\n",
       "      <td>86204.000000</td>\n",
       "      <td>1.000000</td>\n",
       "      <td>1.000000</td>\n",
       "      <td>1.000000</td>\n",
       "      <td>1.000000</td>\n",
       "      <td>1.0</td>\n",
       "      <td>32.000000</td>\n",
       "      <td>2.000000</td>\n",
       "      <td>1.000000</td>\n",
       "      <td>2.000000</td>\n",
       "      <td>...</td>\n",
       "      <td>114.000000</td>\n",
       "      <td>62.000000</td>\n",
       "      <td>72.000000</td>\n",
       "      <td>168.00000</td>\n",
       "      <td>24.400000</td>\n",
       "      <td>38.500000</td>\n",
       "      <td>37.100000</td>\n",
       "      <td>30.700000</td>\n",
       "      <td>89.400000</td>\n",
       "      <td>2.000000</td>\n",
       "    </tr>\n",
       "    <tr>\n",
       "      <th>50%</th>\n",
       "      <td>88664.000000</td>\n",
       "      <td>1.000000</td>\n",
       "      <td>2.000000</td>\n",
       "      <td>2.000000</td>\n",
       "      <td>1.000000</td>\n",
       "      <td>1.0</td>\n",
       "      <td>48.000000</td>\n",
       "      <td>3.000000</td>\n",
       "      <td>1.000000</td>\n",
       "      <td>4.000000</td>\n",
       "      <td>...</td>\n",
       "      <td>124.000000</td>\n",
       "      <td>72.000000</td>\n",
       "      <td>82.800000</td>\n",
       "      <td>173.40000</td>\n",
       "      <td>27.900000</td>\n",
       "      <td>40.800000</td>\n",
       "      <td>38.700000</td>\n",
       "      <td>33.500000</td>\n",
       "      <td>99.500000</td>\n",
       "      <td>2.000000</td>\n",
       "    </tr>\n",
       "    <tr>\n",
       "      <th>75%</th>\n",
       "      <td>91218.500000</td>\n",
       "      <td>1.000000</td>\n",
       "      <td>2.000000</td>\n",
       "      <td>4.000000</td>\n",
       "      <td>2.000000</td>\n",
       "      <td>1.0</td>\n",
       "      <td>63.000000</td>\n",
       "      <td>4.000000</td>\n",
       "      <td>1.000000</td>\n",
       "      <td>4.000000</td>\n",
       "      <td>...</td>\n",
       "      <td>136.000000</td>\n",
       "      <td>78.000000</td>\n",
       "      <td>97.200000</td>\n",
       "      <td>178.40000</td>\n",
       "      <td>31.975000</td>\n",
       "      <td>42.900000</td>\n",
       "      <td>40.300000</td>\n",
       "      <td>36.800000</td>\n",
       "      <td>109.700000</td>\n",
       "      <td>2.000000</td>\n",
       "    </tr>\n",
       "    <tr>\n",
       "      <th>max</th>\n",
       "      <td>93700.000000</td>\n",
       "      <td>9.000000</td>\n",
       "      <td>9.000000</td>\n",
       "      <td>999.000000</td>\n",
       "      <td>9.000000</td>\n",
       "      <td>1.0</td>\n",
       "      <td>80.000000</td>\n",
       "      <td>5.000000</td>\n",
       "      <td>9.000000</td>\n",
       "      <td>9.000000</td>\n",
       "      <td>...</td>\n",
       "      <td>238.000000</td>\n",
       "      <td>144.000000</td>\n",
       "      <td>198.900000</td>\n",
       "      <td>202.70000</td>\n",
       "      <td>58.800000</td>\n",
       "      <td>51.500000</td>\n",
       "      <td>47.400000</td>\n",
       "      <td>55.800000</td>\n",
       "      <td>169.600000</td>\n",
       "      <td>9.000000</td>\n",
       "    </tr>\n",
       "  </tbody>\n",
       "</table>\n",
       "<p>8 rows × 28 columns</p>\n",
       "</div>"
      ],
      "text/plain": [
       "               SEQN       ALQ101      ALQ110       ALQ130       SMQ020  \\\n",
       "count   2759.000000  2548.000000  528.000000  1802.000000  2759.000000   \n",
       "mean   88685.926785     1.209969    1.598485     4.922863     1.501631   \n",
       "std     2885.859127     0.433513    0.635566    40.694528     0.594189   \n",
       "min    83732.000000     1.000000    1.000000     1.000000     1.000000   \n",
       "25%    86204.000000     1.000000    1.000000     1.000000     1.000000   \n",
       "50%    88664.000000     1.000000    2.000000     2.000000     1.000000   \n",
       "75%    91218.500000     1.000000    2.000000     4.000000     2.000000   \n",
       "max    93700.000000     9.000000    9.000000   999.000000     9.000000   \n",
       "\n",
       "       RIAGENDR     RIDAGEYR     RIDRETH1     DMDCITZN     DMDEDUC2  \\\n",
       "count    2759.0  2759.000000  2759.000000  2759.000000  2624.000000   \n",
       "mean        1.0    48.332004     3.079014     1.183400     3.403201   \n",
       "std         0.0    18.571168     1.292694     0.438039     1.314080   \n",
       "min         1.0    18.000000     1.000000     1.000000     1.000000   \n",
       "25%         1.0    32.000000     2.000000     1.000000     2.000000   \n",
       "50%         1.0    48.000000     3.000000     1.000000     4.000000   \n",
       "75%         1.0    63.000000     4.000000     1.000000     4.000000   \n",
       "max         1.0    80.000000     5.000000     9.000000     9.000000   \n",
       "\n",
       "          ...            BPXSY2       BPXDI2        BMXWT       BMXHT  \\\n",
       "count     ...       2678.000000  2678.000000  2719.000000  2727.00000   \n",
       "mean      ...        126.594473    70.457058    86.573262   173.13205   \n",
       "std       ...         17.625812    13.632792    21.096863     7.83411   \n",
       "min       ...         84.000000     0.000000    39.200000   136.50000   \n",
       "25%       ...        114.000000    62.000000    72.000000   168.00000   \n",
       "50%       ...        124.000000    72.000000    82.800000   173.40000   \n",
       "75%       ...        136.000000    78.000000    97.200000   178.40000   \n",
       "max       ...        238.000000   144.000000   198.900000   202.70000   \n",
       "\n",
       "            BMXBMI       BMXLEG      BMXARML      BMXARMC     BMXWAIST  \\\n",
       "count  2718.000000  2592.000000  2622.000000  2622.000000  2606.000000   \n",
       "mean     28.778072    40.684877    38.747674    33.970023   100.764850   \n",
       "std       6.252568     3.286647     2.359298     4.781493    16.349224   \n",
       "min      15.100000    28.600000    29.700000    21.800000    66.400000   \n",
       "25%      24.400000    38.500000    37.100000    30.700000    89.400000   \n",
       "50%      27.900000    40.800000    38.700000    33.500000    99.500000   \n",
       "75%      31.975000    42.900000    40.300000    36.800000   109.700000   \n",
       "max      58.800000    51.500000    47.400000    55.800000   169.600000   \n",
       "\n",
       "            HIQ210  \n",
       "count  2228.000000  \n",
       "mean      1.927289  \n",
       "std       0.409924  \n",
       "min       1.000000  \n",
       "25%       2.000000  \n",
       "50%       2.000000  \n",
       "75%       2.000000  \n",
       "max       9.000000  \n",
       "\n",
       "[8 rows x 28 columns]"
      ]
     },
     "execution_count": 43,
     "metadata": {},
     "output_type": "execute_result"
    }
   ],
   "source": [
    "df_male.describe()"
   ]
  },
  {
   "cell_type": "code",
   "execution_count": 44,
   "metadata": {},
   "outputs": [
    {
     "name": "stderr",
     "output_type": "stream",
     "text": [
      "/Users/farhin/anaconda2/envs/py36/lib/python3.6/site-packages/ipykernel_launcher.py:1: SettingWithCopyWarning: \n",
      "A value is trying to be set on a copy of a slice from a DataFrame.\n",
      "Try using .loc[row_indexer,col_indexer] = value instead\n",
      "\n",
      "See the caveats in the documentation: http://pandas.pydata.org/pandas-docs/stable/indexing.html#indexing-view-versus-copy\n",
      "  \"\"\"Entry point for launching an IPython kernel.\n"
     ]
    },
    {
     "data": {
      "text/html": [
       "<div>\n",
       "<style scoped>\n",
       "    .dataframe tbody tr th:only-of-type {\n",
       "        vertical-align: middle;\n",
       "    }\n",
       "\n",
       "    .dataframe tbody tr th {\n",
       "        vertical-align: top;\n",
       "    }\n",
       "\n",
       "    .dataframe thead th {\n",
       "        text-align: right;\n",
       "    }\n",
       "</style>\n",
       "<table border=\"1\" class=\"dataframe\">\n",
       "  <thead>\n",
       "    <tr style=\"text-align: right;\">\n",
       "      <th>DMDMARTLx</th>\n",
       "      <th>Cohabitating</th>\n",
       "      <th>Divorced</th>\n",
       "      <th>Married</th>\n",
       "      <th>NeverMarried</th>\n",
       "      <th>Refused</th>\n",
       "      <th>Separated</th>\n",
       "      <th>Widowed</th>\n",
       "    </tr>\n",
       "    <tr>\n",
       "      <th>agegrp</th>\n",
       "      <th></th>\n",
       "      <th></th>\n",
       "      <th></th>\n",
       "      <th></th>\n",
       "      <th></th>\n",
       "      <th></th>\n",
       "      <th></th>\n",
       "    </tr>\n",
       "  </thead>\n",
       "  <tbody>\n",
       "    <tr>\n",
       "      <th>(18, 20]</th>\n",
       "      <td>0.075000</td>\n",
       "      <td>NaN</td>\n",
       "      <td>0.025000</td>\n",
       "      <td>0.900000</td>\n",
       "      <td>NaN</td>\n",
       "      <td>NaN</td>\n",
       "      <td>NaN</td>\n",
       "    </tr>\n",
       "    <tr>\n",
       "      <th>(20, 30]</th>\n",
       "      <td>0.212963</td>\n",
       "      <td>0.004630</td>\n",
       "      <td>0.238426</td>\n",
       "      <td>0.523148</td>\n",
       "      <td>NaN</td>\n",
       "      <td>0.016204</td>\n",
       "      <td>0.004630</td>\n",
       "    </tr>\n",
       "    <tr>\n",
       "      <th>(30, 40]</th>\n",
       "      <td>0.157205</td>\n",
       "      <td>0.052402</td>\n",
       "      <td>0.563319</td>\n",
       "      <td>0.194323</td>\n",
       "      <td>0.002183</td>\n",
       "      <td>0.026201</td>\n",
       "      <td>0.004367</td>\n",
       "    </tr>\n",
       "    <tr>\n",
       "      <th>(40, 50]</th>\n",
       "      <td>0.082294</td>\n",
       "      <td>0.084788</td>\n",
       "      <td>0.703242</td>\n",
       "      <td>0.097257</td>\n",
       "      <td>NaN</td>\n",
       "      <td>0.027431</td>\n",
       "      <td>0.004988</td>\n",
       "    </tr>\n",
       "    <tr>\n",
       "      <th>(50, 60]</th>\n",
       "      <td>0.074890</td>\n",
       "      <td>0.125551</td>\n",
       "      <td>0.651982</td>\n",
       "      <td>0.103524</td>\n",
       "      <td>NaN</td>\n",
       "      <td>0.022026</td>\n",
       "      <td>0.022026</td>\n",
       "    </tr>\n",
       "    <tr>\n",
       "      <th>(60, 70]</th>\n",
       "      <td>0.050343</td>\n",
       "      <td>0.125858</td>\n",
       "      <td>0.665904</td>\n",
       "      <td>0.086957</td>\n",
       "      <td>NaN</td>\n",
       "      <td>0.032037</td>\n",
       "      <td>0.038902</td>\n",
       "    </tr>\n",
       "    <tr>\n",
       "      <th>(70, 80]</th>\n",
       "      <td>0.022388</td>\n",
       "      <td>0.141791</td>\n",
       "      <td>0.611940</td>\n",
       "      <td>0.022388</td>\n",
       "      <td>NaN</td>\n",
       "      <td>0.034826</td>\n",
       "      <td>0.166667</td>\n",
       "    </tr>\n",
       "  </tbody>\n",
       "</table>\n",
       "</div>"
      ],
      "text/plain": [
       "DMDMARTLx  Cohabitating  Divorced   Married  NeverMarried   Refused  \\\n",
       "agegrp                                                                \n",
       "(18, 20]       0.075000       NaN  0.025000      0.900000       NaN   \n",
       "(20, 30]       0.212963  0.004630  0.238426      0.523148       NaN   \n",
       "(30, 40]       0.157205  0.052402  0.563319      0.194323  0.002183   \n",
       "(40, 50]       0.082294  0.084788  0.703242      0.097257       NaN   \n",
       "(50, 60]       0.074890  0.125551  0.651982      0.103524       NaN   \n",
       "(60, 70]       0.050343  0.125858  0.665904      0.086957       NaN   \n",
       "(70, 80]       0.022388  0.141791  0.611940      0.022388       NaN   \n",
       "\n",
       "DMDMARTLx  Separated   Widowed  \n",
       "agegrp                          \n",
       "(18, 20]         NaN       NaN  \n",
       "(20, 30]    0.016204  0.004630  \n",
       "(30, 40]    0.026201  0.004367  \n",
       "(40, 50]    0.027431  0.004988  \n",
       "(50, 60]    0.022026  0.022026  \n",
       "(60, 70]    0.032037  0.038902  \n",
       "(70, 80]    0.034826  0.166667  "
      ]
     },
     "execution_count": 44,
     "metadata": {},
     "output_type": "execute_result"
    }
   ],
   "source": [
    "df_male[\"agegrp\"] = pd.cut(df_male.RIDAGEYR,[18,20,30,40,50,60,70,80])\n",
    "dx = df_male.groupby(\"agegrp\")[\"DMDMARTLx\"]\n",
    "dx = dx.value_counts()\n",
    "dx = dx.unstack()\n",
    "dx = dx.apply(lambda x: x/x.sum(), axis = 1)\n",
    "dx"
   ]
  },
  {
   "cell_type": "code",
   "execution_count": 45,
   "metadata": {},
   "outputs": [
    {
     "ename": "AttributeError",
     "evalue": "module 'seaborn' has no attribute 'histplot'",
     "output_type": "error",
     "traceback": [
      "\u001b[0;31m---------------------------------------------------------------------------\u001b[0m",
      "\u001b[0;31mAttributeError\u001b[0m                            Traceback (most recent call last)",
      "\u001b[0;32m<ipython-input-45-bced6e58a532>\u001b[0m in \u001b[0;36m<module>\u001b[0;34m\u001b[0m\n\u001b[0;32m----> 1\u001b[0;31m \u001b[0msns\u001b[0m\u001b[0;34m.\u001b[0m\u001b[0mhistplot\u001b[0m\u001b[0;34m(\u001b[0m\u001b[0mdf\u001b[0m\u001b[0;34m.\u001b[0m\u001b[0mBMXHT\u001b[0m\u001b[0;34m)\u001b[0m\u001b[0;34m\u001b[0m\u001b[0;34m\u001b[0m\u001b[0m\n\u001b[0m",
      "\u001b[0;31mAttributeError\u001b[0m: module 'seaborn' has no attribute 'histplot'"
     ]
    }
   ],
   "source": [
    "sns.histplot(df.BMXHT)"
   ]
  },
  {
   "cell_type": "code",
   "execution_count": 46,
   "metadata": {},
   "outputs": [
    {
     "name": "stdout",
     "output_type": "stream",
     "text": [
      "0.9.0\n"
     ]
    }
   ],
   "source": [
    "print(sns.__version__)"
   ]
  },
  {
   "cell_type": "code",
   "execution_count": null,
   "metadata": {},
   "outputs": [],
   "source": [
    "pip install --upgrade seaborn"
   ]
  },
  {
   "cell_type": "code",
   "execution_count": null,
   "metadata": {},
   "outputs": [],
   "source": []
  }
 ],
 "metadata": {
  "kernelspec": {
   "display_name": "Python 3",
   "language": "python",
   "name": "python3"
  },
  "language_info": {
   "codemirror_mode": {
    "name": "ipython",
    "version": 3
   },
   "file_extension": ".py",
   "mimetype": "text/x-python",
   "name": "python",
   "nbconvert_exporter": "python",
   "pygments_lexer": "ipython3",
   "version": "3.6.7"
  }
 },
 "nbformat": 4,
 "nbformat_minor": 2
}
